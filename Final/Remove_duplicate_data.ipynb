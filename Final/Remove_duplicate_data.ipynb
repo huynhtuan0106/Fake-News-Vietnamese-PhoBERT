{
  "nbformat": 4,
  "nbformat_minor": 0,
  "metadata": {
    "colab": {
      "provenance": []
    },
    "kernelspec": {
      "name": "python3",
      "display_name": "Python 3"
    },
    "language_info": {
      "name": "python"
    }
  },
  "cells": [
    {
      "cell_type": "code",
      "execution_count": 48,
      "metadata": {
        "colab": {
          "base_uri": "https://localhost:8080/"
        },
        "id": "t_bARomGjkA9",
        "outputId": "5a0fe89d-b8b2-467a-acff-188cf2043bc3"
      },
      "outputs": [
        {
          "output_type": "execute_result",
          "data": {
            "text/plain": [
              "(308, 6)"
            ]
          },
          "metadata": {},
          "execution_count": 48
        }
      ],
      "source": [
        "import pandas as pd\n",
        "\n",
        "# Tải dữ liệu\n",
        "real1 = pd.read_csv('fake.csv')\n",
        "real1.shape"
      ]
    },
    {
      "cell_type": "code",
      "source": [
        "# Tìm các dòng dữ liệu bị trùng lặp\n",
        "duplicates = real1[real1.duplicated('content', keep=False)]\n",
        "print(\"Các hàng bị trùng lặp:\")\n",
        "print(duplicates)"
      ],
      "metadata": {
        "colab": {
          "base_uri": "https://localhost:8080/"
        },
        "id": "Z8RwrGrellC4",
        "outputId": "efaf540a-9612-4969-80f0-95d4978c1130"
      },
      "execution_count": 49,
      "outputs": [
        {
          "output_type": "stream",
          "name": "stdout",
          "text": [
            "Các hàng bị trùng lặp:\n",
            "                 date                                  author_id  \\\n",
            "9                 NaN                                        NaN   \n",
            "40   01/08/2024 16:30  https://www.facebook.com/chantroimoimedia   \n",
            "42   31/07/2024 16:00  https://www.facebook.com/chantroimoimedia   \n",
            "43   28/07/2024 16:14  https://www.facebook.com/chantroimoimedia   \n",
            "49   02/08/2024 10:31           https://www.facebook.com/viettan   \n",
            "73   23/07/2024 19:30  https://www.facebook.com/chantroimoimedia   \n",
            "93   28/07/2024 21:00           https://www.facebook.com/viettan   \n",
            "304  04/08/2024 11:08           https://www.facebook.com/viettan   \n",
            "\n",
            "                                               content  label  \\\n",
            "9    Di sản của sĩ phu bắc hà đây:\\nBáo Nhân Dân cô...    0.0   \n",
            "40   Vinfast là hãng xe duy nhất trên thế giới:\\nBá...    0.0   \n",
            "42   ĐẤT NƯỚC HẠNH PHÚC, ĐÁNG SỐNG\\nTrung bình mỗi ...    0.0   \n",
            "43   Hành khách bay ở Việt Nam đã phải đóng tiền ph...    0.0   \n",
            "49   Vinfast là hãng xe duy nhất trên thế giới:\\nBá...    0.0   \n",
            "73   Di sản của sĩ phu bắc hà đây:\\nBáo Nhân Dân cô...    0.0   \n",
            "93   Hành khách bay ở Việt Nam đã phải đóng tiền ph...    0.0   \n",
            "304  ĐẤT NƯỚC HẠNH PHÚC, ĐÁNG SỐNG\\nTrung bình mỗi ...    0.0   \n",
            "\n",
            "                                                  link  \\\n",
            "9    https://www.facebook.com/chantroimoimedia/post...   \n",
            "40   https://www.facebook.com/chantroimoimedia/post...   \n",
            "42   https://www.facebook.com/chantroimoimedia/post...   \n",
            "43   https://www.facebook.com/chantroimoimedia/post...   \n",
            "49   https://www.facebook.com/viettan/posts/9248365...   \n",
            "73   https://www.facebook.com/chantroimoimedia/post...   \n",
            "93   https://www.facebook.com/viettan/posts/9217536...   \n",
            "304  https://www.facebook.com/viettan/posts/9261781...   \n",
            "\n",
            "                                          comment_list  \n",
            "9    [\\n    {\\n        \"comment_id\": \"c4\",\\n       ...  \n",
            "40   [\\n    {\\n        \"comment_id\": \"c4\",\\n       ...  \n",
            "42   [\\n    {\\n        \"comment_id\": \"c4\",\\n       ...  \n",
            "43   [\\n    {\\n        \"comment_id\": \"c4\",\\n       ...  \n",
            "49   [\\n    {\\n        \"comment_id\": \"c4\",\\n       ...  \n",
            "73   [\\n    {\\n        \"comment_id\": \"c4\",\\n       ...  \n",
            "93   [\\n    {\\n        \"comment_id\": \"c4\",\\n       ...  \n",
            "304  [\\n    {\\n        \"comment_id\": \"c4\",\\n       ...  \n"
          ]
        }
      ]
    },
    {
      "cell_type": "code",
      "source": [
        "# Loại bỏ các hàng bị trùng lặp trong cột 'content', giữ lại bản ghi đầu tiên\n",
        "real2 = real1.drop_duplicates('content', keep='first')\n",
        "real2.shape"
      ],
      "metadata": {
        "colab": {
          "base_uri": "https://localhost:8080/"
        },
        "id": "tmgFVfNcnT0W",
        "outputId": "641a00b2-099d-41f7-a1fd-32d8605dd4b4"
      },
      "execution_count": 50,
      "outputs": [
        {
          "output_type": "execute_result",
          "data": {
            "text/plain": [
              "(304, 6)"
            ]
          },
          "metadata": {},
          "execution_count": 50
        }
      ]
    },
    {
      "cell_type": "code",
      "source": [
        "pip install pandas fuzzywuzzy python-Levenshtein"
      ],
      "metadata": {
        "collapsed": true,
        "colab": {
          "base_uri": "https://localhost:8080/"
        },
        "id": "nZpzPx2wmQRQ",
        "outputId": "ca3c1785-15ef-4112-a78d-a1804db66ecf"
      },
      "execution_count": 5,
      "outputs": [
        {
          "output_type": "stream",
          "name": "stdout",
          "text": [
            "Requirement already satisfied: pandas in /usr/local/lib/python3.10/dist-packages (2.1.4)\n",
            "Collecting fuzzywuzzy\n",
            "  Downloading fuzzywuzzy-0.18.0-py2.py3-none-any.whl.metadata (4.9 kB)\n",
            "Collecting python-Levenshtein\n",
            "  Downloading python_Levenshtein-0.25.1-py3-none-any.whl.metadata (3.7 kB)\n",
            "Requirement already satisfied: numpy<2,>=1.22.4 in /usr/local/lib/python3.10/dist-packages (from pandas) (1.26.4)\n",
            "Requirement already satisfied: python-dateutil>=2.8.2 in /usr/local/lib/python3.10/dist-packages (from pandas) (2.8.2)\n",
            "Requirement already satisfied: pytz>=2020.1 in /usr/local/lib/python3.10/dist-packages (from pandas) (2024.1)\n",
            "Requirement already satisfied: tzdata>=2022.1 in /usr/local/lib/python3.10/dist-packages (from pandas) (2024.1)\n",
            "Collecting Levenshtein==0.25.1 (from python-Levenshtein)\n",
            "  Downloading Levenshtein-0.25.1-cp310-cp310-manylinux_2_17_x86_64.manylinux2014_x86_64.whl.metadata (3.3 kB)\n",
            "Collecting rapidfuzz<4.0.0,>=3.8.0 (from Levenshtein==0.25.1->python-Levenshtein)\n",
            "  Downloading rapidfuzz-3.9.6-cp310-cp310-manylinux_2_17_x86_64.manylinux2014_x86_64.whl.metadata (12 kB)\n",
            "Requirement already satisfied: six>=1.5 in /usr/local/lib/python3.10/dist-packages (from python-dateutil>=2.8.2->pandas) (1.16.0)\n",
            "Downloading fuzzywuzzy-0.18.0-py2.py3-none-any.whl (18 kB)\n",
            "Downloading python_Levenshtein-0.25.1-py3-none-any.whl (9.4 kB)\n",
            "Downloading Levenshtein-0.25.1-cp310-cp310-manylinux_2_17_x86_64.manylinux2014_x86_64.whl (177 kB)\n",
            "\u001b[2K   \u001b[90m━━━━━━━━━━━━━━━━━━━━━━━━━━━━━━━━━━━━━━━━\u001b[0m \u001b[32m177.4/177.4 kB\u001b[0m \u001b[31m8.1 MB/s\u001b[0m eta \u001b[36m0:00:00\u001b[0m\n",
            "\u001b[?25hDownloading rapidfuzz-3.9.6-cp310-cp310-manylinux_2_17_x86_64.manylinux2014_x86_64.whl (3.4 MB)\n",
            "\u001b[2K   \u001b[90m━━━━━━━━━━━━━━━━━━━━━━━━━━━━━━━━━━━━━━━━\u001b[0m \u001b[32m3.4/3.4 MB\u001b[0m \u001b[31m46.0 MB/s\u001b[0m eta \u001b[36m0:00:00\u001b[0m\n",
            "\u001b[?25hInstalling collected packages: fuzzywuzzy, rapidfuzz, Levenshtein, python-Levenshtein\n",
            "Successfully installed Levenshtein-0.25.1 fuzzywuzzy-0.18.0 python-Levenshtein-0.25.1 rapidfuzz-3.9.6\n"
          ]
        }
      ]
    },
    {
      "cell_type": "code",
      "source": [
        "from fuzzywuzzy import fuzz\n",
        "from fuzzywuzzy import process\n",
        "\n",
        "# Thiết lập ngưỡng tương đồng\n",
        "threshold = 80\n",
        "\n",
        "# Hàm để tìm các chuỗi gần giống nhau\n",
        "def find_similar_strings(df, column, threshold):\n",
        "    similar_pairs = []\n",
        "    content_list = df[column].tolist()\n",
        "    for i in range(len(content_list)):\n",
        "        for j in range(i+1, len(content_list)):\n",
        "            if fuzz.ratio(content_list[i], content_list[j]) >= threshold:\n",
        "                similar_pairs.append((content_list[i], content_list[j]))\n",
        "    return similar_pairs\n",
        "\n",
        "# Tìm các chuỗi gần giống nhau trong cột 'content'\n",
        "similar_strings = find_similar_strings(real2, 'content', threshold)\n",
        "\n",
        "# In ra các cặp chuỗi gần giống nhau\n",
        "print(\"Các cặp chuỗi gần giống nhau:\")\n",
        "for pair in similar_strings:\n",
        "    print(pair)"
      ],
      "metadata": {
        "colab": {
          "base_uri": "https://localhost:8080/"
        },
        "id": "2rAEMPuDmI4t",
        "outputId": "9a555b82-e351-4491-b6e5-6d1f1c584d7f"
      },
      "execution_count": 52,
      "outputs": [
        {
          "output_type": "stream",
          "name": "stdout",
          "text": [
            "Các cặp chuỗi gần giống nhau:\n",
            "('Tượng đài, cổng chào, khu tưởng niệm “lãnh tụ” đã chiếm cứ hàng trăm ngàn hecta đất, không sản sinh ra của cải, vật chất cho xã hội?\\n(Lê Hiếu Tử)', 'Tượng đài, cổng chào, khu tưởng niệm,,lãnh tụ,,đã chiếm cứ hàng trăm ngàn Ha đất, không sản sinh ra của cải, vật chất cho xã hội?\\n(Lê Hiếu Tử)')\n",
            "('CÓ ĐI CÓ LẠI MỚI TOẠI LÒNG… QUAN\\nSau khi bị dư luận phản ánh quá nhiều về màu sơn “lạ lẫm” so với cảm quan xưa nay, Chủ tịch UBND thành phố Hội An, tỉnh Quảng Nam - cho biết đang giao Trung tâm Quản lý Bảo tồn Di sản Văn hóa Hội An xử lý lại màu của di tích Chùa Cầu.\\nVậy là làm sai nhưng không cần chịu trách nhiệm gì, lại có lý do để ăn thêm vòng nữa, quá là hoàn hảo cho mấy ông lãnh đạo Hội An. Một cái nguyên tắc khi trùng tu là phải giữ được kiểu dáng, màu sắc của di tích. Vậy nhưng mấy ông \"đớp\" vội 20 tỷ đến no bụng, mù mắt mà chẳng còn biết gì nữa, làm một cái màu lạ hoắc để dân chửi to đầu.\\nKhông biết \"lượt về\" này được duyệt thêm bao nhiêu ngân sách nữa, nhưng \"lượt đi\" đã ăn ngon thì lần này thêm ít hay nhiều, dàn lãnh đạo Hội An cũng cảm thấy hài lòng rồi. \\nLinh Linh', 'SƠN ĐI SƠN LẠI, CÂY CẦU NHỎ MIẾNG BÁNH TO\\nChủ tịch UBND thành phố Hội An, tỉnh Quảng Nam - cho biết đang giao Trung tâm Quản lý Bảo tồn Di sản Văn hóa Hội An xử lý lại màu của di tích Chùa Cầu sau khi bị dư luận phản ánh quá nhiều về màu sơn “lạ lẫm”, quá mới và hiện đại.\\nVậy là làm sai nhưng không cần chịu trách nhiệm gì, lại có lý do để ăn thêm vòng nữa, quá là hoàn hảo cho mấy ông lãnh đạo Hội An. Một cái nguyên tắc khi trùng tu là phải giữ được kiểu dáng, màu sắc của di tích. Vậy nhưng mấy ông \"đớp\" vội 20 tỷ đến no bụng, mù mắt mà chẳng còn biết gì nữa, làm một cái màu lạ hoắc để dân chửi to đầu.\\nKhông biết \"lượt về\" này được duyệt thêm bao nhiêu ngân sách nữa, nhưng \"lượt đi\" đã ăn ngon thì lần này thêm ít hay nhiều, dàn lãnh đạo Hội An cũng cảm thấy hài lòng rồi. \\nLinh Linh')\n",
            "(' Những ngày qua, các phụ huynh liên tục chia sẻ các clip con học tập đọc với phương pháp mới, đọc thơ qua các hình tam giác, ô vuông mà không đánh vần chữ.\\n Học máy móc, rắc rối?', ' Những ngày qua, trên mạng xã hội các phụ huynh liên tục chia sẻ các clip con học tập đọc với phương pháp mới, đọc thơ qua các hình tam giác, ô vuông mà không đánh vần chữ và clip những hoa hậu á hậu , mc bán dâm...')\n",
            "(' Dấu hiệu nhận biết nhà có ma. Các khung giờ 18 giờ chiều, 24 giờ đêm (0 giờ sáng) và 3 giờ sáng (quỷ môn quan) chính là 3 khung giờ mà vong hồn thường xuyên hoạt động mạnh mẽ nhất. Khi ấy, thường bầu không khí sẽ trở nên lạnh lẽo và ghê rợn vô cùng.\\n', ' Dấu hiệu nhận biết nhà có maCác khung giờ 18 giờ chiều, 24 giờ đêm (0 giờ sáng) và 3 giờ sáng (quỷ môn quan) chính là 3 khung giờ mà vong hồn thường xuyên hoạt động mạnh mẽ nhất. Khi ấy, thường bầu không khí sẽ trở nên lạnh lẽo và ghê rợn vô cùng.')\n"
          ]
        }
      ]
    },
    {
      "cell_type": "code",
      "source": [
        "# Loại bỏ các hàng gần giống nhau, giữ lại bản ghi đầu tiên\n",
        "unique_content = []\n",
        "indices_to_keep = []\n",
        "\n",
        "for i, content in enumerate(real2['content']):\n",
        "    is_similar = any(fuzz.ratio(content, uc) >= threshold for uc in unique_content)\n",
        "    if not is_similar:\n",
        "        unique_content.append(content)\n",
        "        indices_to_keep.append(i)\n",
        "\n",
        "real3 = real2.iloc[indices_to_keep]\n",
        "real3.shape"
      ],
      "metadata": {
        "colab": {
          "base_uri": "https://localhost:8080/"
        },
        "id": "r6S0zy2hovyn",
        "outputId": "771d92fc-fef6-4ae2-a6a8-80f6d98b08d9"
      },
      "execution_count": 53,
      "outputs": [
        {
          "output_type": "execute_result",
          "data": {
            "text/plain": [
              "(300, 6)"
            ]
          },
          "metadata": {},
          "execution_count": 53
        }
      ]
    },
    {
      "cell_type": "code",
      "source": [
        "# Thiết lập ngưỡng tương đồng\n",
        "threshold2 = 60\n",
        "\n",
        "# Tìm các chuỗi gần giống nhau trong cột 'content'\n",
        "similar_strings = find_similar_strings(real3, 'content', threshold2)\n",
        "\n",
        "# In ra các cặp chuỗi gần giống nhau\n",
        "print(\"Các cặp chuỗi gần giống nhau:\")\n",
        "for pair in similar_strings:\n",
        "    print(pair)"
      ],
      "metadata": {
        "colab": {
          "base_uri": "https://localhost:8080/"
        },
        "id": "XF-dvFvIp0hU",
        "outputId": "940864f2-5ff3-48fc-9353-4d134f7734c4"
      },
      "execution_count": 54,
      "outputs": [
        {
          "output_type": "stream",
          "name": "stdout",
          "text": [
            "Các cặp chuỗi gần giống nhau:\n",
            "('Nhà cầm quyền làm được những điều lạ:\\nHọ biến Hà Nội ngập lụt như miền tây sông nước và biến miền tây sông nước khô hạn như cao nguyên', 'Nếu Đà Lạt có thể ngập lụt, thì Hà Nội cũng được “quyền” ngập lụt như miền tây sông nước, và miền tây sông nước khô hạn thì đều là nhờ ơn Đảng.')\n",
            "(' Theo Sankei Sports, sáng nay Thủ tướng Nhật Bản Shinzo Abe công khai gửi lời xin lỗi tới Nhật hoàng và toàn bộ người dân vì tinh thần thi đấu phi thể thao của đội tuyển Nhật tại World Cup 2018.Tối qua, sau lượt trận cuối vòng bảng World Cup 2018, Nhật Bản có cùng chỉ số phụ như Senegal, đội bị loại sau khi thua Colombia. Nhưng Nhật Bản vào vòng sau nhờ chỉ số fair-play vì nhận ít thẻ phạt hơn', 'Sáng 19/6, Thủ tướng Nhật Bản Shinzo Abe công khai gửi lời xin lỗi tới Nhật hoàng và toàn bộ người dân vì tinh thần thi đấu phi thể thao của đội tuyển Nhật tại World Cup 2018.')\n"
          ]
        }
      ]
    },
    {
      "cell_type": "code",
      "source": [
        "# Loại bỏ các hàng gần giống nhau, giữ lại bản ghi đầu tiên\n",
        "unique_content2 = []\n",
        "indices_to_keep2 = []\n",
        "\n",
        "for i, content in enumerate(real3['content']):\n",
        "    is_similar = any(fuzz.ratio(content, uc) >= threshold for uc in unique_content2)\n",
        "    if not is_similar:\n",
        "        unique_content2.append(content)\n",
        "        indices_to_keep2.append(i)\n",
        "\n",
        "real4 = real3.iloc[indices_to_keep2]\n",
        "real4.shape"
      ],
      "metadata": {
        "colab": {
          "base_uri": "https://localhost:8080/"
        },
        "id": "j2oeSiq4qd9Y",
        "outputId": "322495fc-5976-4de3-a55d-40dbe28b9cdb"
      },
      "execution_count": 43,
      "outputs": [
        {
          "output_type": "execute_result",
          "data": {
            "text/plain": [
              "(602, 6)"
            ]
          },
          "metadata": {},
          "execution_count": 43
        }
      ]
    },
    {
      "cell_type": "code",
      "source": [
        "from google.colab import files\n",
        "\n",
        "# Lưu DataFrame real4 vào file CSV\n",
        "real3.to_csv('new_fake.csv', index=False, encoding='utf-8-sig')\n",
        "\n",
        "# Tải file CSV về máy\n",
        "files.download('new_fake.csv')"
      ],
      "metadata": {
        "colab": {
          "base_uri": "https://localhost:8080/",
          "height": 17
        },
        "id": "mrpSpVOpris5",
        "outputId": "e125521a-a1b4-40ab-dcb7-24373687a675"
      },
      "execution_count": 56,
      "outputs": [
        {
          "output_type": "display_data",
          "data": {
            "text/plain": [
              "<IPython.core.display.Javascript object>"
            ],
            "application/javascript": [
              "\n",
              "    async function download(id, filename, size) {\n",
              "      if (!google.colab.kernel.accessAllowed) {\n",
              "        return;\n",
              "      }\n",
              "      const div = document.createElement('div');\n",
              "      const label = document.createElement('label');\n",
              "      label.textContent = `Downloading \"${filename}\": `;\n",
              "      div.appendChild(label);\n",
              "      const progress = document.createElement('progress');\n",
              "      progress.max = size;\n",
              "      div.appendChild(progress);\n",
              "      document.body.appendChild(div);\n",
              "\n",
              "      const buffers = [];\n",
              "      let downloaded = 0;\n",
              "\n",
              "      const channel = await google.colab.kernel.comms.open(id);\n",
              "      // Send a message to notify the kernel that we're ready.\n",
              "      channel.send({})\n",
              "\n",
              "      for await (const message of channel.messages) {\n",
              "        // Send a message to notify the kernel that we're ready.\n",
              "        channel.send({})\n",
              "        if (message.buffers) {\n",
              "          for (const buffer of message.buffers) {\n",
              "            buffers.push(buffer);\n",
              "            downloaded += buffer.byteLength;\n",
              "            progress.value = downloaded;\n",
              "          }\n",
              "        }\n",
              "      }\n",
              "      const blob = new Blob(buffers, {type: 'application/binary'});\n",
              "      const a = document.createElement('a');\n",
              "      a.href = window.URL.createObjectURL(blob);\n",
              "      a.download = filename;\n",
              "      div.appendChild(a);\n",
              "      a.click();\n",
              "      div.remove();\n",
              "    }\n",
              "  "
            ]
          },
          "metadata": {}
        },
        {
          "output_type": "display_data",
          "data": {
            "text/plain": [
              "<IPython.core.display.Javascript object>"
            ],
            "application/javascript": [
              "download(\"download_85e70e6e-76ef-43ab-bfa9-c896bcf84e74\", \"new_fake.csv\", 1453437)"
            ]
          },
          "metadata": {}
        }
      ]
    }
  ]
}