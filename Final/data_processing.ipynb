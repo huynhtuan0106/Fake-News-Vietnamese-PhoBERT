{
  "nbformat": 4,
  "nbformat_minor": 0,
  "metadata": {
    "colab": {
      "provenance": []
    },
    "kernelspec": {
      "name": "python3",
      "display_name": "Python 3"
    },
    "language_info": {
      "name": "python"
    }
  },
  "cells": [
    {
      "cell_type": "code",
      "execution_count": 19,
      "metadata": {
        "id": "6meVp6msA1Sr"
      },
      "outputs": [],
      "source": [
        "import re\n",
        "import numpy as np\n",
        "\n",
        "from imblearn.over_sampling import RandomOverSampler\n",
        "from google.colab import files\n",
        "from sklearn.model_selection import train_test_split"
      ]
    },
    {
      "cell_type": "code",
      "source": [
        "from google.colab import drive\n",
        "drive.mount('/content/drive')"
      ],
      "metadata": {
        "colab": {
          "base_uri": "https://localhost:8080/"
        },
        "id": "42M_ZPw4YMK-",
        "outputId": "01922406-5f72-4026-9cca-fbd644e35fd8"
      },
      "execution_count": 20,
      "outputs": [
        {
          "output_type": "stream",
          "name": "stdout",
          "text": [
            "Mounted at /content/drive\n"
          ]
        }
      ]
    },
    {
      "cell_type": "code",
      "source": [
        "# Xem các file đã tải lên\n",
        "import pandas as pd\n",
        "import io\n",
        "\n",
        "# Đọc các file CSV vào DataFrame\n",
        "real = pd.read_csv('new_real.csv')\n",
        "fake = pd.read_csv('new_fake.csv')"
      ],
      "metadata": {
        "id": "SrmxJrfKBCp7"
      },
      "execution_count": 5,
      "outputs": []
    },
    {
      "cell_type": "code",
      "source": [
        "real.shape"
      ],
      "metadata": {
        "colab": {
          "base_uri": "https://localhost:8080/"
        },
        "id": "6Qh1RXDpBPh1",
        "outputId": "bcb8694b-edfd-49b8-b0ed-fc9012499a8d"
      },
      "execution_count": 6,
      "outputs": [
        {
          "output_type": "execute_result",
          "data": {
            "text/plain": [
              "(653, 6)"
            ]
          },
          "metadata": {},
          "execution_count": 6
        }
      ]
    },
    {
      "cell_type": "code",
      "source": [
        "fake.shape"
      ],
      "metadata": {
        "colab": {
          "base_uri": "https://localhost:8080/"
        },
        "id": "3b1TMirlBQbF",
        "outputId": "8d286d3c-91d2-422f-97ce-b4bb0c76f609"
      },
      "execution_count": 7,
      "outputs": [
        {
          "output_type": "execute_result",
          "data": {
            "text/plain": [
              "(422, 6)"
            ]
          },
          "metadata": {},
          "execution_count": 7
        }
      ]
    },
    {
      "cell_type": "code",
      "source": [
        "df = pd.concat([real, fake], ignore_index=True)\n",
        "df.shape"
      ],
      "metadata": {
        "colab": {
          "base_uri": "https://localhost:8080/"
        },
        "id": "u0uP1rs9BTDo",
        "outputId": "a76ec3c6-bf2d-475d-cd5b-074b794920be"
      },
      "execution_count": 8,
      "outputs": [
        {
          "output_type": "execute_result",
          "data": {
            "text/plain": [
              "(1075, 6)"
            ]
          },
          "metadata": {},
          "execution_count": 8
        }
      ]
    },
    {
      "cell_type": "code",
      "source": [
        "df = df.dropna(subset=['label'])"
      ],
      "metadata": {
        "id": "6zQ2K36wBU5i"
      },
      "execution_count": 9,
      "outputs": []
    },
    {
      "cell_type": "code",
      "source": [
        "df['label'] = df['label'].astype(int)"
      ],
      "metadata": {
        "id": "YcsO1JeBBW8Q"
      },
      "execution_count": 10,
      "outputs": []
    },
    {
      "cell_type": "code",
      "source": [
        "df.columns"
      ],
      "metadata": {
        "colab": {
          "base_uri": "https://localhost:8080/"
        },
        "id": "k7GT7kcDBavd",
        "outputId": "820fd4e9-173a-427b-f84f-ce64e0b11e5c"
      },
      "execution_count": 11,
      "outputs": [
        {
          "output_type": "execute_result",
          "data": {
            "text/plain": [
              "Index(['date', 'author_id', 'content', 'label', 'link', 'comment_list'], dtype='object')"
            ]
          },
          "metadata": {},
          "execution_count": 11
        }
      ]
    },
    {
      "cell_type": "code",
      "source": [
        "df2 = df.drop(['link', 'comment_list', 'date', 'author_id'], axis=1)"
      ],
      "metadata": {
        "id": "FUMZalZqBbzY"
      },
      "execution_count": 12,
      "outputs": []
    },
    {
      "cell_type": "code",
      "source": [
        "df2.head()"
      ],
      "metadata": {
        "colab": {
          "base_uri": "https://localhost:8080/",
          "height": 206
        },
        "id": "w55gUny1BcF7",
        "outputId": "91f68363-5ec4-4885-87bf-498ac2c4a247"
      },
      "execution_count": 13,
      "outputs": [
        {
          "output_type": "execute_result",
          "data": {
            "text/plain": [
              "                                             content  label\n",
              "0  Vụ xe bán tải cố vượt rào chắn, bị tàu hỏa tôn...      1\n",
              "1  TPHCM: Hơn 4.600 ca mắc sốt xuất huyết, nhiều ...      1\n",
              "2  Nóng: Ngộ độc hàng loạt tại trụ sở công ty mẹ ...      1\n",
              "3  Ngày mai: Giá xăng trong nước có thể giảm lần ...      1\n",
              "4   Pin dự phòng của hành khách bốc cháy tại nhà ...      1"
            ],
            "text/html": [
              "\n",
              "  <div id=\"df-e6b34420-1946-4636-b67a-f4e6961d2438\" class=\"colab-df-container\">\n",
              "    <div>\n",
              "<style scoped>\n",
              "    .dataframe tbody tr th:only-of-type {\n",
              "        vertical-align: middle;\n",
              "    }\n",
              "\n",
              "    .dataframe tbody tr th {\n",
              "        vertical-align: top;\n",
              "    }\n",
              "\n",
              "    .dataframe thead th {\n",
              "        text-align: right;\n",
              "    }\n",
              "</style>\n",
              "<table border=\"1\" class=\"dataframe\">\n",
              "  <thead>\n",
              "    <tr style=\"text-align: right;\">\n",
              "      <th></th>\n",
              "      <th>content</th>\n",
              "      <th>label</th>\n",
              "    </tr>\n",
              "  </thead>\n",
              "  <tbody>\n",
              "    <tr>\n",
              "      <th>0</th>\n",
              "      <td>Vụ xe bán tải cố vượt rào chắn, bị tàu hỏa tôn...</td>\n",
              "      <td>1</td>\n",
              "    </tr>\n",
              "    <tr>\n",
              "      <th>1</th>\n",
              "      <td>TPHCM: Hơn 4.600 ca mắc sốt xuất huyết, nhiều ...</td>\n",
              "      <td>1</td>\n",
              "    </tr>\n",
              "    <tr>\n",
              "      <th>2</th>\n",
              "      <td>Nóng: Ngộ độc hàng loạt tại trụ sở công ty mẹ ...</td>\n",
              "      <td>1</td>\n",
              "    </tr>\n",
              "    <tr>\n",
              "      <th>3</th>\n",
              "      <td>Ngày mai: Giá xăng trong nước có thể giảm lần ...</td>\n",
              "      <td>1</td>\n",
              "    </tr>\n",
              "    <tr>\n",
              "      <th>4</th>\n",
              "      <td>Pin dự phòng của hành khách bốc cháy tại nhà ...</td>\n",
              "      <td>1</td>\n",
              "    </tr>\n",
              "  </tbody>\n",
              "</table>\n",
              "</div>\n",
              "    <div class=\"colab-df-buttons\">\n",
              "\n",
              "  <div class=\"colab-df-container\">\n",
              "    <button class=\"colab-df-convert\" onclick=\"convertToInteractive('df-e6b34420-1946-4636-b67a-f4e6961d2438')\"\n",
              "            title=\"Convert this dataframe to an interactive table.\"\n",
              "            style=\"display:none;\">\n",
              "\n",
              "  <svg xmlns=\"http://www.w3.org/2000/svg\" height=\"24px\" viewBox=\"0 -960 960 960\">\n",
              "    <path d=\"M120-120v-720h720v720H120Zm60-500h600v-160H180v160Zm220 220h160v-160H400v160Zm0 220h160v-160H400v160ZM180-400h160v-160H180v160Zm440 0h160v-160H620v160ZM180-180h160v-160H180v160Zm440 0h160v-160H620v160Z\"/>\n",
              "  </svg>\n",
              "    </button>\n",
              "\n",
              "  <style>\n",
              "    .colab-df-container {\n",
              "      display:flex;\n",
              "      gap: 12px;\n",
              "    }\n",
              "\n",
              "    .colab-df-convert {\n",
              "      background-color: #E8F0FE;\n",
              "      border: none;\n",
              "      border-radius: 50%;\n",
              "      cursor: pointer;\n",
              "      display: none;\n",
              "      fill: #1967D2;\n",
              "      height: 32px;\n",
              "      padding: 0 0 0 0;\n",
              "      width: 32px;\n",
              "    }\n",
              "\n",
              "    .colab-df-convert:hover {\n",
              "      background-color: #E2EBFA;\n",
              "      box-shadow: 0px 1px 2px rgba(60, 64, 67, 0.3), 0px 1px 3px 1px rgba(60, 64, 67, 0.15);\n",
              "      fill: #174EA6;\n",
              "    }\n",
              "\n",
              "    .colab-df-buttons div {\n",
              "      margin-bottom: 4px;\n",
              "    }\n",
              "\n",
              "    [theme=dark] .colab-df-convert {\n",
              "      background-color: #3B4455;\n",
              "      fill: #D2E3FC;\n",
              "    }\n",
              "\n",
              "    [theme=dark] .colab-df-convert:hover {\n",
              "      background-color: #434B5C;\n",
              "      box-shadow: 0px 1px 3px 1px rgba(0, 0, 0, 0.15);\n",
              "      filter: drop-shadow(0px 1px 2px rgba(0, 0, 0, 0.3));\n",
              "      fill: #FFFFFF;\n",
              "    }\n",
              "  </style>\n",
              "\n",
              "    <script>\n",
              "      const buttonEl =\n",
              "        document.querySelector('#df-e6b34420-1946-4636-b67a-f4e6961d2438 button.colab-df-convert');\n",
              "      buttonEl.style.display =\n",
              "        google.colab.kernel.accessAllowed ? 'block' : 'none';\n",
              "\n",
              "      async function convertToInteractive(key) {\n",
              "        const element = document.querySelector('#df-e6b34420-1946-4636-b67a-f4e6961d2438');\n",
              "        const dataTable =\n",
              "          await google.colab.kernel.invokeFunction('convertToInteractive',\n",
              "                                                    [key], {});\n",
              "        if (!dataTable) return;\n",
              "\n",
              "        const docLinkHtml = 'Like what you see? Visit the ' +\n",
              "          '<a target=\"_blank\" href=https://colab.research.google.com/notebooks/data_table.ipynb>data table notebook</a>'\n",
              "          + ' to learn more about interactive tables.';\n",
              "        element.innerHTML = '';\n",
              "        dataTable['output_type'] = 'display_data';\n",
              "        await google.colab.output.renderOutput(dataTable, element);\n",
              "        const docLink = document.createElement('div');\n",
              "        docLink.innerHTML = docLinkHtml;\n",
              "        element.appendChild(docLink);\n",
              "      }\n",
              "    </script>\n",
              "  </div>\n",
              "\n",
              "\n",
              "<div id=\"df-b54cbcfa-5dad-432e-bcc2-191d4d76db54\">\n",
              "  <button class=\"colab-df-quickchart\" onclick=\"quickchart('df-b54cbcfa-5dad-432e-bcc2-191d4d76db54')\"\n",
              "            title=\"Suggest charts\"\n",
              "            style=\"display:none;\">\n",
              "\n",
              "<svg xmlns=\"http://www.w3.org/2000/svg\" height=\"24px\"viewBox=\"0 0 24 24\"\n",
              "     width=\"24px\">\n",
              "    <g>\n",
              "        <path d=\"M19 3H5c-1.1 0-2 .9-2 2v14c0 1.1.9 2 2 2h14c1.1 0 2-.9 2-2V5c0-1.1-.9-2-2-2zM9 17H7v-7h2v7zm4 0h-2V7h2v10zm4 0h-2v-4h2v4z\"/>\n",
              "    </g>\n",
              "</svg>\n",
              "  </button>\n",
              "\n",
              "<style>\n",
              "  .colab-df-quickchart {\n",
              "      --bg-color: #E8F0FE;\n",
              "      --fill-color: #1967D2;\n",
              "      --hover-bg-color: #E2EBFA;\n",
              "      --hover-fill-color: #174EA6;\n",
              "      --disabled-fill-color: #AAA;\n",
              "      --disabled-bg-color: #DDD;\n",
              "  }\n",
              "\n",
              "  [theme=dark] .colab-df-quickchart {\n",
              "      --bg-color: #3B4455;\n",
              "      --fill-color: #D2E3FC;\n",
              "      --hover-bg-color: #434B5C;\n",
              "      --hover-fill-color: #FFFFFF;\n",
              "      --disabled-bg-color: #3B4455;\n",
              "      --disabled-fill-color: #666;\n",
              "  }\n",
              "\n",
              "  .colab-df-quickchart {\n",
              "    background-color: var(--bg-color);\n",
              "    border: none;\n",
              "    border-radius: 50%;\n",
              "    cursor: pointer;\n",
              "    display: none;\n",
              "    fill: var(--fill-color);\n",
              "    height: 32px;\n",
              "    padding: 0;\n",
              "    width: 32px;\n",
              "  }\n",
              "\n",
              "  .colab-df-quickchart:hover {\n",
              "    background-color: var(--hover-bg-color);\n",
              "    box-shadow: 0 1px 2px rgba(60, 64, 67, 0.3), 0 1px 3px 1px rgba(60, 64, 67, 0.15);\n",
              "    fill: var(--button-hover-fill-color);\n",
              "  }\n",
              "\n",
              "  .colab-df-quickchart-complete:disabled,\n",
              "  .colab-df-quickchart-complete:disabled:hover {\n",
              "    background-color: var(--disabled-bg-color);\n",
              "    fill: var(--disabled-fill-color);\n",
              "    box-shadow: none;\n",
              "  }\n",
              "\n",
              "  .colab-df-spinner {\n",
              "    border: 2px solid var(--fill-color);\n",
              "    border-color: transparent;\n",
              "    border-bottom-color: var(--fill-color);\n",
              "    animation:\n",
              "      spin 1s steps(1) infinite;\n",
              "  }\n",
              "\n",
              "  @keyframes spin {\n",
              "    0% {\n",
              "      border-color: transparent;\n",
              "      border-bottom-color: var(--fill-color);\n",
              "      border-left-color: var(--fill-color);\n",
              "    }\n",
              "    20% {\n",
              "      border-color: transparent;\n",
              "      border-left-color: var(--fill-color);\n",
              "      border-top-color: var(--fill-color);\n",
              "    }\n",
              "    30% {\n",
              "      border-color: transparent;\n",
              "      border-left-color: var(--fill-color);\n",
              "      border-top-color: var(--fill-color);\n",
              "      border-right-color: var(--fill-color);\n",
              "    }\n",
              "    40% {\n",
              "      border-color: transparent;\n",
              "      border-right-color: var(--fill-color);\n",
              "      border-top-color: var(--fill-color);\n",
              "    }\n",
              "    60% {\n",
              "      border-color: transparent;\n",
              "      border-right-color: var(--fill-color);\n",
              "    }\n",
              "    80% {\n",
              "      border-color: transparent;\n",
              "      border-right-color: var(--fill-color);\n",
              "      border-bottom-color: var(--fill-color);\n",
              "    }\n",
              "    90% {\n",
              "      border-color: transparent;\n",
              "      border-bottom-color: var(--fill-color);\n",
              "    }\n",
              "  }\n",
              "</style>\n",
              "\n",
              "  <script>\n",
              "    async function quickchart(key) {\n",
              "      const quickchartButtonEl =\n",
              "        document.querySelector('#' + key + ' button');\n",
              "      quickchartButtonEl.disabled = true;  // To prevent multiple clicks.\n",
              "      quickchartButtonEl.classList.add('colab-df-spinner');\n",
              "      try {\n",
              "        const charts = await google.colab.kernel.invokeFunction(\n",
              "            'suggestCharts', [key], {});\n",
              "      } catch (error) {\n",
              "        console.error('Error during call to suggestCharts:', error);\n",
              "      }\n",
              "      quickchartButtonEl.classList.remove('colab-df-spinner');\n",
              "      quickchartButtonEl.classList.add('colab-df-quickchart-complete');\n",
              "    }\n",
              "    (() => {\n",
              "      let quickchartButtonEl =\n",
              "        document.querySelector('#df-b54cbcfa-5dad-432e-bcc2-191d4d76db54 button');\n",
              "      quickchartButtonEl.style.display =\n",
              "        google.colab.kernel.accessAllowed ? 'block' : 'none';\n",
              "    })();\n",
              "  </script>\n",
              "</div>\n",
              "\n",
              "    </div>\n",
              "  </div>\n"
            ],
            "application/vnd.google.colaboratory.intrinsic+json": {
              "type": "dataframe",
              "variable_name": "df2",
              "summary": "{\n  \"name\": \"df2\",\n  \"rows\": 1075,\n  \"fields\": [\n    {\n      \"column\": \"content\",\n      \"properties\": {\n        \"dtype\": \"string\",\n        \"num_unique_values\": 1075,\n        \"samples\": [\n          \"X\\u00f3t xa hi\\u1ec7n tr\\u01b0\\u1eddng v\\u1ee5 s\\u1ea1t l\\u1edf \\u0111\\u1ea5t v\\u00f9i l\\u1ea5p xe 16 ch\\u1ed7 \\u1edf H\\u00e0 Giang.\\n\\u0110\\u1ebfn 9h15, l\\u1ef1c l\\u01b0\\u1ee3ng ch\\u1ee9c n\\u0103ng \\u0111\\u00e3 \\u0111\\u01b0a ra ngo\\u00e0i \\u0111\\u01b0\\u1ee3c 13 ng\\u01b0\\u1eddi. Trong \\u0111\\u00f3 9 ng\\u01b0\\u1eddi t\\u1eed vong v\\u00e0 4 ng\\u01b0\\u1eddi b\\u1ecb th\\u01b0\\u01a1ng n\\u1eb7ng.\\nTheo l\\u1eddi k\\u1ec3 c\\u1ee7a m\\u1ed9t nh\\u00e2n ch\\u1ee9ng, th\\u1eddi \\u0111i\\u1ec3m x\\u1ea3y ra s\\u1ea1t l\\u1edf c\\u00f3 m\\u1ed9t xe 16 ch\\u1ed7 v\\u00e0 m\\u1ed9t xe 7 ch\\u1ed7 di chuy\\u1ec3n qua khu v\\u1ef1c. Chi\\u1ebfc xe nh\\u1ecf h\\u01a1n \\u0111\\u00e3 l\\u00f9i ra kh\\u1ecfi v\\u1ecb tr\\u00ed s\\u1ea1t l\\u1edf, nh\\u01b0ng chi\\u1ebfc c\\u00f2n l\\u1ea1i kh\\u00f4ng k\\u1ecbp tho\\u00e1t ra v\\u00e0 b\\u1ecb m\\u1eafc k\\u1eb9t.\\n\\\"Nh\\u00f3m ng\\u01b0\\u1eddi tr\\u00ean xe 7 ch\\u1ed7 \\u0111\\u00e3 xu\\u1ed1ng h\\u1ed7 tr\\u1ee3 \\u0111\\u1ea9y chi\\u1ebfc xe 16 ch\\u1ed7 ra kh\\u1ecfi khu v\\u1ef1c nguy hi\\u1ec3m. Tuy nhi\\u00ean, m\\u1ed9t \\u0111\\u1ee3t s\\u1ea1t l\\u1edf kh\\u00e1c b\\u1ea5t ng\\u1edd \\u1eadp xu\\u1ed1ng khi\\u1ebfn h\\u1ecd kh\\u00f4ng k\\u1ecbp tr\\u1edf tay v\\u00e0 b\\u1ecb v\\u00f9i l\\u1ea5p d\\u01b0\\u1edbi l\\u1edbp \\u0111\\u1ea5t \\u0111\\u00e1\\\", nh\\u00e2n ch\\u1ee9ng cho hay.\\n(*) Ngu\\u1ed3n: VnExpess\",\n          \"Qu\\u1ea3ng Ninh s\\u1eadp h\\u1ea7m l\\u00f2 khi\\u1ebfn 5 ng\\u01b0\\u1eddi t\\u1eed vong.\\nChi ti\\u1ebft\",\n          \"Hi\\u1ec7n t\\u1ea1i, nhi\\u1ec1u ng\\u01b0\\u1eddi v\\u1eabn \\u0111ang \\u0111\\u1ee9ng b\\u00ean ngo\\u00e0i ngh\\u0129a trang Mai D\\u1ecbch mong \\u0111\\u01b0\\u1ee3c v\\u00e0o b\\u00ean trong th\\u1eafp h\\u01b0\\u01a1ng, vi\\u1ebfng T\\u1ed5ng B\\u00ed th\\u01b0 Nguy\\u1ec5n Ph\\u00fa Tr\\u1ecdng.\"\n        ],\n        \"semantic_type\": \"\",\n        \"description\": \"\"\n      }\n    },\n    {\n      \"column\": \"label\",\n      \"properties\": {\n        \"dtype\": \"number\",\n        \"std\": 0,\n        \"min\": 0,\n        \"max\": 1,\n        \"num_unique_values\": 2,\n        \"samples\": [\n          0,\n          1\n        ],\n        \"semantic_type\": \"\",\n        \"description\": \"\"\n      }\n    }\n  ]\n}"
            }
          },
          "metadata": {},
          "execution_count": 13
        }
      ]
    },
    {
      "cell_type": "code",
      "source": [
        "df2['label'].value_counts().plot.bar()"
      ],
      "metadata": {
        "colab": {
          "base_uri": "https://localhost:8080/",
          "height": 462
        },
        "id": "jmN61uTrBg2Z",
        "outputId": "4fc565cb-d122-4e0e-879a-fcfb21c615b1"
      },
      "execution_count": 14,
      "outputs": [
        {
          "output_type": "execute_result",
          "data": {
            "text/plain": [
              "<Axes: xlabel='label'>"
            ]
          },
          "metadata": {},
          "execution_count": 14
        },
        {
          "output_type": "display_data",
          "data": {
            "text/plain": [
              "<Figure size 640x480 with 1 Axes>"
            ],
            "image/png": "[encoded data removed]"
          },
          "metadata": {}
        }
      ]
    },
    {
      "cell_type": "code",
      "source": [
        "def clean_text(text):\n",
        "    # Chuyển đổi văn bản thành chữ thường\n",
        "    text = text.lower()\n",
        "    # Xóa các URL\n",
        "    text = re.sub(r\"http\\S+\", \"\", text)\n",
        "    # Xóa các ký tự không phải là chữ cái, số hoặc dấu thanh cơ bản\n",
        "    text = re.sub(r\"[^a-zA-Z0-9\\sáàảãạăằắẳẵặâầấẩẫậèẹẻẽẽêềếểễệìíỉĩịòóỏõọôồốổỗộơờởỡợớùúủũụưừửữựứỳýỷỹỵđ]\", \"\", text)\n",
        "    # Xóa các khoảng trắng thừa\n",
        "    text = re.sub(r\"\\s+\", \" \", text).strip()\n",
        "\n",
        "    return text"
      ],
      "metadata": {
        "id": "OoUlEGKJBjDI"
      },
      "execution_count": 15,
      "outputs": []
    },
    {
      "cell_type": "code",
      "source": [
        "# Clean content\n",
        "df2['content'] = df2['content'].apply(clean_text)"
      ],
      "metadata": {
        "id": "VmaxLHNfBk5U"
      },
      "execution_count": 16,
      "outputs": []
    },
    {
      "cell_type": "code",
      "source": [
        "df2.head()"
      ],
      "metadata": {
        "colab": {
          "base_uri": "https://localhost:8080/",
          "height": 206
        },
        "id": "9olYpJyyBmG0",
        "outputId": "853eb4a4-642d-486f-ee7e-89a360d36c9c"
      },
      "execution_count": 17,
      "outputs": [
        {
          "output_type": "execute_result",
          "data": {
            "text/plain": [
              "                                             content  label\n",
              "0  vụ xe bán tải cố vượt rào chắn bị tàu hỏa tông...      1\n",
              "1  tphcm hơn 4600 ca mắc sốt xuất huyết nhiều điể...      1\n",
              "2  nóng ngộ độc hàng loạt tại trụ sở công ty mẹ t...      1\n",
              "3  ngày mai giá xăng trong nước có thể giảm lần t...      1\n",
              "4  pin dự phòng của hành khách bốc cháy tại nhà g...      1"
            ],
            "text/html": [
              "\n",
              "  <div id=\"df-7705edfe-13bb-42ba-98ec-8bc3cee2159e\" class=\"colab-df-container\">\n",
              "    <div>\n",
              "<style scoped>\n",
              "    .dataframe tbody tr th:only-of-type {\n",
              "        vertical-align: middle;\n",
              "    }\n",
              "\n",
              "    .dataframe tbody tr th {\n",
              "        vertical-align: top;\n",
              "    }\n",
              "\n",
              "    .dataframe thead th {\n",
              "        text-align: right;\n",
              "    }\n",
              "</style>\n",
              "<table border=\"1\" class=\"dataframe\">\n",
              "  <thead>\n",
              "    <tr style=\"text-align: right;\">\n",
              "      <th></th>\n",
              "      <th>content</th>\n",
              "      <th>label</th>\n",
              "    </tr>\n",
              "  </thead>\n",
              "  <tbody>\n",
              "    <tr>\n",
              "      <th>0</th>\n",
              "      <td>vụ xe bán tải cố vượt rào chắn bị tàu hỏa tông...</td>\n",
              "      <td>1</td>\n",
              "    </tr>\n",
              "    <tr>\n",
              "      <th>1</th>\n",
              "      <td>tphcm hơn 4600 ca mắc sốt xuất huyết nhiều điể...</td>\n",
              "      <td>1</td>\n",
              "    </tr>\n",
              "    <tr>\n",
              "      <th>2</th>\n",
              "      <td>nóng ngộ độc hàng loạt tại trụ sở công ty mẹ t...</td>\n",
              "      <td>1</td>\n",
              "    </tr>\n",
              "    <tr>\n",
              "      <th>3</th>\n",
              "      <td>ngày mai giá xăng trong nước có thể giảm lần t...</td>\n",
              "      <td>1</td>\n",
              "    </tr>\n",
              "    <tr>\n",
              "      <th>4</th>\n",
              "      <td>pin dự phòng của hành khách bốc cháy tại nhà g...</td>\n",
              "      <td>1</td>\n",
              "    </tr>\n",
              "  </tbody>\n",
              "</table>\n",
              "</div>\n",
              "    <div class=\"colab-df-buttons\">\n",
              "\n",
              "  <div class=\"colab-df-container\">\n",
              "    <button class=\"colab-df-convert\" onclick=\"convertToInteractive('df-7705edfe-13bb-42ba-98ec-8bc3cee2159e')\"\n",
              "            title=\"Convert this dataframe to an interactive table.\"\n",
              "            style=\"display:none;\">\n",
              "\n",
              "  <svg xmlns=\"http://www.w3.org/2000/svg\" height=\"24px\" viewBox=\"0 -960 960 960\">\n",
              "    <path d=\"M120-120v-720h720v720H120Zm60-500h600v-160H180v160Zm220 220h160v-160H400v160Zm0 220h160v-160H400v160ZM180-400h160v-160H180v160Zm440 0h160v-160H620v160ZM180-180h160v-160H180v160Zm440 0h160v-160H620v160Z\"/>\n",
              "  </svg>\n",
              "    </button>\n",
              "\n",
              "  <style>\n",
              "    .colab-df-container {\n",
              "      display:flex;\n",
              "      gap: 12px;\n",
              "    }\n",
              "\n",
              "    .colab-df-convert {\n",
              "      background-color: #E8F0FE;\n",
              "      border: none;\n",
              "      border-radius: 50%;\n",
              "      cursor: pointer;\n",
              "      display: none;\n",
              "      fill: #1967D2;\n",
              "      height: 32px;\n",
              "      padding: 0 0 0 0;\n",
              "      width: 32px;\n",
              "    }\n",
              "\n",
              "    .colab-df-convert:hover {\n",
              "      background-color: #E2EBFA;\n",
              "      box-shadow: 0px 1px 2px rgba(60, 64, 67, 0.3), 0px 1px 3px 1px rgba(60, 64, 67, 0.15);\n",
              "      fill: #174EA6;\n",
              "    }\n",
              "\n",
              "    .colab-df-buttons div {\n",
              "      margin-bottom: 4px;\n",
              "    }\n",
              "\n",
              "    [theme=dark] .colab-df-convert {\n",
              "      background-color: #3B4455;\n",
              "      fill: #D2E3FC;\n",
              "    }\n",
              "\n",
              "    [theme=dark] .colab-df-convert:hover {\n",
              "      background-color: #434B5C;\n",
              "      box-shadow: 0px 1px 3px 1px rgba(0, 0, 0, 0.15);\n",
              "      filter: drop-shadow(0px 1px 2px rgba(0, 0, 0, 0.3));\n",
              "      fill: #FFFFFF;\n",
              "    }\n",
              "  </style>\n",
              "\n",
              "    <script>\n",
              "      const buttonEl =\n",
              "        document.querySelector('#df-7705edfe-13bb-42ba-98ec-8bc3cee2159e button.colab-df-convert');\n",
              "      buttonEl.style.display =\n",
              "        google.colab.kernel.accessAllowed ? 'block' : 'none';\n",
              "\n",
              "      async function convertToInteractive(key) {\n",
              "        const element = document.querySelector('#df-7705edfe-13bb-42ba-98ec-8bc3cee2159e');\n",
              "        const dataTable =\n",
              "          await google.colab.kernel.invokeFunction('convertToInteractive',\n",
              "                                                    [key], {});\n",
              "        if (!dataTable) return;\n",
              "\n",
              "        const docLinkHtml = 'Like what you see? Visit the ' +\n",
              "          '<a target=\"_blank\" href=https://colab.research.google.com/notebooks/data_table.ipynb>data table notebook</a>'\n",
              "          + ' to learn more about interactive tables.';\n",
              "        element.innerHTML = '';\n",
              "        dataTable['output_type'] = 'display_data';\n",
              "        await google.colab.output.renderOutput(dataTable, element);\n",
              "        const docLink = document.createElement('div');\n",
              "        docLink.innerHTML = docLinkHtml;\n",
              "        element.appendChild(docLink);\n",
              "      }\n",
              "    </script>\n",
              "  </div>\n",
              "\n",
              "\n",
              "<div id=\"df-3d2176e0-c2d4-4db9-94c5-db0ef28533dc\">\n",
              "  <button class=\"colab-df-quickchart\" onclick=\"quickchart('df-3d2176e0-c2d4-4db9-94c5-db0ef28533dc')\"\n",
              "            title=\"Suggest charts\"\n",
              "            style=\"display:none;\">\n",
              "\n",
              "<svg xmlns=\"http://www.w3.org/2000/svg\" height=\"24px\"viewBox=\"0 0 24 24\"\n",
              "     width=\"24px\">\n",
              "    <g>\n",
              "        <path d=\"M19 3H5c-1.1 0-2 .9-2 2v14c0 1.1.9 2 2 2h14c1.1 0 2-.9 2-2V5c0-1.1-.9-2-2-2zM9 17H7v-7h2v7zm4 0h-2V7h2v10zm4 0h-2v-4h2v4z\"/>\n",
              "    </g>\n",
              "</svg>\n",
              "  </button>\n",
              "\n",
              "<style>\n",
              "  .colab-df-quickchart {\n",
              "      --bg-color: #E8F0FE;\n",
              "      --fill-color: #1967D2;\n",
              "      --hover-bg-color: #E2EBFA;\n",
              "      --hover-fill-color: #174EA6;\n",
              "      --disabled-fill-color: #AAA;\n",
              "      --disabled-bg-color: #DDD;\n",
              "  }\n",
              "\n",
              "  [theme=dark] .colab-df-quickchart {\n",
              "      --bg-color: #3B4455;\n",
              "      --fill-color: #D2E3FC;\n",
              "      --hover-bg-color: #434B5C;\n",
              "      --hover-fill-color: #FFFFFF;\n",
              "      --disabled-bg-color: #3B4455;\n",
              "      --disabled-fill-color: #666;\n",
              "  }\n",
              "\n",
              "  .colab-df-quickchart {\n",
              "    background-color: var(--bg-color);\n",
              "    border: none;\n",
              "    border-radius: 50%;\n",
              "    cursor: pointer;\n",
              "    display: none;\n",
              "    fill: var(--fill-color);\n",
              "    height: 32px;\n",
              "    padding: 0;\n",
              "    width: 32px;\n",
              "  }\n",
              "\n",
              "  .colab-df-quickchart:hover {\n",
              "    background-color: var(--hover-bg-color);\n",
              "    box-shadow: 0 1px 2px rgba(60, 64, 67, 0.3), 0 1px 3px 1px rgba(60, 64, 67, 0.15);\n",
              "    fill: var(--button-hover-fill-color);\n",
              "  }\n",
              "\n",
              "  .colab-df-quickchart-complete:disabled,\n",
              "  .colab-df-quickchart-complete:disabled:hover {\n",
              "    background-color: var(--disabled-bg-color);\n",
              "    fill: var(--disabled-fill-color);\n",
              "    box-shadow: none;\n",
              "  }\n",
              "\n",
              "  .colab-df-spinner {\n",
              "    border: 2px solid var(--fill-color);\n",
              "    border-color: transparent;\n",
              "    border-bottom-color: var(--fill-color);\n",
              "    animation:\n",
              "      spin 1s steps(1) infinite;\n",
              "  }\n",
              "\n",
              "  @keyframes spin {\n",
              "    0% {\n",
              "      border-color: transparent;\n",
              "      border-bottom-color: var(--fill-color);\n",
              "      border-left-color: var(--fill-color);\n",
              "    }\n",
              "    20% {\n",
              "      border-color: transparent;\n",
              "      border-left-color: var(--fill-color);\n",
              "      border-top-color: var(--fill-color);\n",
              "    }\n",
              "    30% {\n",
              "      border-color: transparent;\n",
              "      border-left-color: var(--fill-color);\n",
              "      border-top-color: var(--fill-color);\n",
              "      border-right-color: var(--fill-color);\n",
              "    }\n",
              "    40% {\n",
              "      border-color: transparent;\n",
              "      border-right-color: var(--fill-color);\n",
              "      border-top-color: var(--fill-color);\n",
              "    }\n",
              "    60% {\n",
              "      border-color: transparent;\n",
              "      border-right-color: var(--fill-color);\n",
              "    }\n",
              "    80% {\n",
              "      border-color: transparent;\n",
              "      border-right-color: var(--fill-color);\n",
              "      border-bottom-color: var(--fill-color);\n",
              "    }\n",
              "    90% {\n",
              "      border-color: transparent;\n",
              "      border-bottom-color: var(--fill-color);\n",
              "    }\n",
              "  }\n",
              "</style>\n",
              "\n",
              "  <script>\n",
              "    async function quickchart(key) {\n",
              "      const quickchartButtonEl =\n",
              "        document.querySelector('#' + key + ' button');\n",
              "      quickchartButtonEl.disabled = true;  // To prevent multiple clicks.\n",
              "      quickchartButtonEl.classList.add('colab-df-spinner');\n",
              "      try {\n",
              "        const charts = await google.colab.kernel.invokeFunction(\n",
              "            'suggestCharts', [key], {});\n",
              "      } catch (error) {\n",
              "        console.error('Error during call to suggestCharts:', error);\n",
              "      }\n",
              "      quickchartButtonEl.classList.remove('colab-df-spinner');\n",
              "      quickchartButtonEl.classList.add('colab-df-quickchart-complete');\n",
              "    }\n",
              "    (() => {\n",
              "      let quickchartButtonEl =\n",
              "        document.querySelector('#df-3d2176e0-c2d4-4db9-94c5-db0ef28533dc button');\n",
              "      quickchartButtonEl.style.display =\n",
              "        google.colab.kernel.accessAllowed ? 'block' : 'none';\n",
              "    })();\n",
              "  </script>\n",
              "</div>\n",
              "\n",
              "    </div>\n",
              "  </div>\n"
            ],
            "application/vnd.google.colaboratory.intrinsic+json": {
              "type": "dataframe",
              "variable_name": "df2",
              "summary": "{\n  \"name\": \"df2\",\n  \"rows\": 1075,\n  \"fields\": [\n    {\n      \"column\": \"content\",\n      \"properties\": {\n        \"dtype\": \"string\",\n        \"num_unique_values\": 1075,\n        \"samples\": [\n          \"x\\u00f3t xa hi\\u1ec7n tr\\u01b0\\u1eddng v\\u1ee5 s\\u1ea1t l\\u1edf \\u0111\\u1ea5t v\\u00f9i l\\u1ea5p xe 16 ch\\u1ed7 \\u1edf h\\u00e0 giang \\u0111\\u1ebfn 9h15 l\\u1ef1c l\\u01b0\\u1ee3ng ch\\u1ee9c n\\u0103ng \\u0111\\u00e3 \\u0111\\u01b0a ra ngo\\u00e0i \\u0111\\u01b0\\u1ee3c 13 ng\\u01b0\\u1eddi trong \\u0111\\u00f3 9 ng\\u01b0\\u1eddi t\\u1eed vong v\\u00e0 4 ng\\u01b0\\u1eddi b\\u1ecb th\\u01b0\\u01a1ng n\\u1eb7ng theo l\\u1eddi k\\u1ec3 c\\u1ee7a m\\u1ed9t nh\\u00e2n ch\\u1ee9ng th\\u1eddi \\u0111i\\u1ec3m x\\u1ea3y ra s\\u1ea1t l\\u1edf c\\u00f3 m\\u1ed9t xe 16 ch\\u1ed7 v\\u00e0 m\\u1ed9t xe 7 ch\\u1ed7 di chuy\\u1ec3n qua khu v\\u1ef1c chi\\u1ebfc xe nh\\u1ecf h\\u01a1n \\u0111\\u00e3 l\\u00f9i ra kh\\u1ecfi v\\u1ecb tr\\u00ed s\\u1ea1t l\\u1edf nh\\u01b0ng chi\\u1ebfc c\\u00f2n l\\u1ea1i kh\\u00f4ng k\\u1ecbp tho\\u00e1t ra v\\u00e0 b\\u1ecb m\\u1eafc k\\u1eb9t nh\\u00f3m ng\\u01b0\\u1eddi tr\\u00ean xe 7 ch\\u1ed7 \\u0111\\u00e3 xu\\u1ed1ng h\\u1ed7 tr\\u1ee3 \\u0111\\u1ea9y chi\\u1ebfc xe 16 ch\\u1ed7 ra kh\\u1ecfi khu v\\u1ef1c nguy hi\\u1ec3m tuy nhi\\u00ean m\\u1ed9t \\u0111\\u1ee3t s\\u1ea1t l\\u1edf kh\\u00e1c b\\u1ea5t ng\\u1edd \\u1eadp xu\\u1ed1ng khi\\u1ebfn h\\u1ecd kh\\u00f4ng k\\u1ecbp tr\\u1edf tay v\\u00e0 b\\u1ecb v\\u00f9i l\\u1ea5p d\\u01b0\\u1edbi l\\u1edbp \\u0111\\u1ea5t \\u0111\\u00e1 nh\\u00e2n ch\\u1ee9ng cho hay ngu\\u1ed3n vnexpess\",\n          \"qu\\u1ea3ng ninh s\\u1eadp h\\u1ea7m l\\u00f2 khi\\u1ebfn 5 ng\\u01b0\\u1eddi t\\u1eed vong chi ti\\u1ebft\",\n          \"hi\\u1ec7n t\\u1ea1i nhi\\u1ec1u ng\\u01b0\\u1eddi v\\u1eabn \\u0111ang \\u0111\\u1ee9ng b\\u00ean ngo\\u00e0i ngh\\u0129a trang mai d\\u1ecbch mong \\u0111\\u01b0\\u1ee3c v\\u00e0o b\\u00ean trong th\\u1eafp h\\u01b0\\u01a1ng vi\\u1ebfng t\\u1ed5ng b\\u00ed th\\u01b0 nguy\\u1ec5n ph\\u00fa tr\\u1ecdng\"\n        ],\n        \"semantic_type\": \"\",\n        \"description\": \"\"\n      }\n    },\n    {\n      \"column\": \"label\",\n      \"properties\": {\n        \"dtype\": \"number\",\n        \"std\": 0,\n        \"min\": 0,\n        \"max\": 1,\n        \"num_unique_values\": 2,\n        \"samples\": [\n          0,\n          1\n        ],\n        \"semantic_type\": \"\",\n        \"description\": \"\"\n      }\n    }\n  ]\n}"
            }
          },
          "metadata": {},
          "execution_count": 17
        }
      ]
    },
    {
      "cell_type": "code",
      "source": [
        "# Tạo bước tăng cường dữ liệu\n",
        "ros = RandomOverSampler()\n",
        "df2['content'] = df2['content'].astype(str)  # Đảm bảo cột nội dung là kiểu chuỗi\n",
        "x_over, y_over = ros.fit_resample(df2[['content']], df2['label'])\n",
        "df2 = pd.DataFrame(data=x_over, columns=['content'])\n",
        "df2['label'] = y_over\n",
        "\n",
        "# Kiểm tra phân phối nhãn\n",
        "df2['label'].value_counts().plot.bar()"
      ],
      "metadata": {
        "colab": {
          "base_uri": "https://localhost:8080/",
          "height": 462
        },
        "id": "eSUjSugrBn22",
        "outputId": "ca669e45-126f-4d7f-b434-62d53cd8654c"
      },
      "execution_count": 18,
      "outputs": [
        {
          "output_type": "execute_result",
          "data": {
            "text/plain": [
              "<Axes: xlabel='label'>"
            ]
          },
          "metadata": {},
          "execution_count": 18
        },
        {
          "output_type": "display_data",
          "data": {
            "text/plain": [
              "<Figure size 640x480 with 1 Axes>"
            ],
            "image/png": "[encoded data removed]"
          },
          "metadata": {}
        }
      ]
    },
    {
      "cell_type": "code",
      "source": [
        "# Chia dữ liệu thành tập huấn luyện và kiểm tra\n",
        "train_texts, val_texts, train_labels, val_labels = train_test_split(df2['content'], df2['label'], test_size=0.2)"
      ],
      "metadata": {
        "id": "nbBMmpmbBt-u"
      },
      "execution_count": 22,
      "outputs": []
    },
    {
      "cell_type": "code",
      "source": [
        "train_df = pd.DataFrame({'content': train_texts, 'label': train_labels})\n",
        "val_df = pd.DataFrame({'content': val_texts, 'label': val_labels})"
      ],
      "metadata": {
        "id": "DDxtz6jhY4Hx"
      },
      "execution_count": 23,
      "outputs": []
    },
    {
      "cell_type": "code",
      "source": [
        "#('/content/drive/MyDrive/Colab Notebooks/Report1/dataset_0708.csv', index=False)\n",
        "train_df.to_csv('/content/drive/MyDrive/Colab Notebooks/Report1/train_data.csv', index=False)\n",
        "val_df.to_csv('/content/drive/MyDrive/Colab Notebooks/Report1/val_data.csv', index=False)"
      ],
      "metadata": {
        "id": "KzGVNsDrCuHn"
      },
      "execution_count": 24,
      "outputs": []
    }
  ]
}