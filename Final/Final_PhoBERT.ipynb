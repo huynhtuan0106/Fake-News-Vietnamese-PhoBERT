{
  "nbformat": 4,
  "nbformat_minor": 0,
  "metadata": {
    "colab": {
      "provenance": []
    },
    "kernelspec": {
      "name": "python3",
      "display_name": "Python 3"
    },
    "language_info": {
      "name": "python"
    }
  },
  "cells": [
    {
      "cell_type": "code",
      "source": [
        "import re\n",
        "import numpy as np\n",
        "from nltk.tokenize import RegexpTokenizer\n",
        "from imblearn.over_sampling import RandomOverSampler\n",
        "from google.colab import files\n",
        "from transformers import AutoTokenizer, AutoModel\n",
        "import torch\n",
        "from sklearn.model_selection import train_test_split\n",
        "from transformers import AutoModelForSequenceClassification, Trainer, TrainingArguments\n"
      ],
      "metadata": {
        "id": "129VVFjQCohe"
      },
      "execution_count": 1,
      "outputs": []
    },
    {
      "cell_type": "code",
      "execution_count": 2,
      "metadata": {
        "id": "lUhBsqpHBJdP"
      },
      "outputs": [],
      "source": [
        "# Xem các file đã tải lên\n",
        "import pandas as pd\n",
        "import io\n",
        "\n",
        "# Đọc các file CSV vào DataFrame\n",
        "real = pd.read_csv('new_real.csv')\n",
        "fake = pd.read_csv('new_fake.csv')"
      ]
    },
    {
      "cell_type": "code",
      "source": [
        "real.shape"
      ],
      "metadata": {
        "colab": {
          "base_uri": "https://localhost:8080/"
        },
        "id": "xQO8MN38CIuZ",
        "outputId": "e2c8666d-561c-4dc5-a1f7-7a8b31bc344b"
      },
      "execution_count": 3,
      "outputs": [
        {
          "output_type": "execute_result",
          "data": {
            "text/plain": [
              "(602, 6)"
            ]
          },
          "metadata": {},
          "execution_count": 3
        }
      ]
    },
    {
      "cell_type": "code",
      "source": [
        "fake.shape"
      ],
      "metadata": {
        "colab": {
          "base_uri": "https://localhost:8080/"
        },
        "id": "s7S6W-SECKGe",
        "outputId": "37750c47-647f-41e8-b081-cbe6df32f1a1"
      },
      "execution_count": 4,
      "outputs": [
        {
          "output_type": "execute_result",
          "data": {
            "text/plain": [
              "(300, 6)"
            ]
          },
          "metadata": {},
          "execution_count": 4
        }
      ]
    },
    {
      "cell_type": "code",
      "source": [
        "df = pd.concat([real, fake], ignore_index=True)\n",
        "df.shape"
      ],
      "metadata": {
        "colab": {
          "base_uri": "https://localhost:8080/"
        },
        "id": "vI6h9eG3CPVs",
        "outputId": "6b51a7cd-1c13-469b-b6ac-052e9207ed30"
      },
      "execution_count": 5,
      "outputs": [
        {
          "output_type": "execute_result",
          "data": {
            "text/plain": [
              "(902, 6)"
            ]
          },
          "metadata": {},
          "execution_count": 5
        }
      ]
    },
    {
      "cell_type": "code",
      "source": [
        "df = df.dropna(subset=['label'])"
      ],
      "metadata": {
        "id": "z4ql7w1cRtKr"
      },
      "execution_count": 10,
      "outputs": []
    },
    {
      "cell_type": "code",
      "source": [
        "df['label'] = df['label'].astype(int)"
      ],
      "metadata": {
        "id": "Hwzz3GjDRntj"
      },
      "execution_count": 11,
      "outputs": []
    },
    {
      "cell_type": "code",
      "source": [
        "df.columns"
      ],
      "metadata": {
        "colab": {
          "base_uri": "https://localhost:8080/"
        },
        "id": "bsX_YvkmCSvC",
        "outputId": "3c666480-e84e-44d2-90b0-f1e7a6b3c9d0"
      },
      "execution_count": 12,
      "outputs": [
        {
          "output_type": "execute_result",
          "data": {
            "text/plain": [
              "Index(['date', 'author_id', 'content', 'label', 'link', 'comment_list'], dtype='object')"
            ]
          },
          "metadata": {},
          "execution_count": 12
        }
      ]
    },
    {
      "cell_type": "code",
      "source": [
        "df2 = df.drop(['link', 'comment_list', 'date', 'author_id'], axis=1)"
      ],
      "metadata": {
        "id": "E7fTNhNACYtq"
      },
      "execution_count": 13,
      "outputs": []
    },
    {
      "cell_type": "code",
      "source": [
        "df2.head()"
      ],
      "metadata": {
        "colab": {
          "base_uri": "https://localhost:8080/",
          "height": 206
        },
        "id": "S6z8zglVCbl7",
        "outputId": "7da88fa5-0376-4fcb-8faa-3f6c8d0b7aec"
      },
      "execution_count": 14,
      "outputs": [
        {
          "output_type": "execute_result",
          "data": {
            "text/plain": [
              "                                             content  label\n",
              "0  Vụ xe bán tải cố vượt rào chắn, bị tàu hỏa tôn...      1\n",
              "1  TPHCM: Hơn 4.600 ca mắc sốt xuất huyết, nhiều ...      1\n",
              "2  Nóng: Ngộ độc hàng loạt tại trụ sở công ty mẹ ...      1\n",
              "3  Ngày mai: Giá xăng trong nước có thể giảm lần ...      1\n",
              "4   Pin dự phòng của hành khách bốc cháy tại nhà ...      1"
            ],
            "text/html": [
              "\n",
              "  <div id=\"df-8aaa5cb2-9798-4c30-a8a1-dc3860f67823\" class=\"colab-df-container\">\n",
              "    <div>\n",
              "<style scoped>\n",
              "    .dataframe tbody tr th:only-of-type {\n",
              "        vertical-align: middle;\n",
              "    }\n",
              "\n",
              "    .dataframe tbody tr th {\n",
              "        vertical-align: top;\n",
              "    }\n",
              "\n",
              "    .dataframe thead th {\n",
              "        text-align: right;\n",
              "    }\n",
              "</style>\n",
              "<table border=\"1\" class=\"dataframe\">\n",
              "  <thead>\n",
              "    <tr style=\"text-align: right;\">\n",
              "      <th></th>\n",
              "      <th>content</th>\n",
              "      <th>label</th>\n",
              "    </tr>\n",
              "  </thead>\n",
              "  <tbody>\n",
              "    <tr>\n",
              "      <th>0</th>\n",
              "      <td>Vụ xe bán tải cố vượt rào chắn, bị tàu hỏa tôn...</td>\n",
              "      <td>1</td>\n",
              "    </tr>\n",
              "    <tr>\n",
              "      <th>1</th>\n",
              "      <td>TPHCM: Hơn 4.600 ca mắc sốt xuất huyết, nhiều ...</td>\n",
              "      <td>1</td>\n",
              "    </tr>\n",
              "    <tr>\n",
              "      <th>2</th>\n",
              "      <td>Nóng: Ngộ độc hàng loạt tại trụ sở công ty mẹ ...</td>\n",
              "      <td>1</td>\n",
              "    </tr>\n",
              "    <tr>\n",
              "      <th>3</th>\n",
              "      <td>Ngày mai: Giá xăng trong nước có thể giảm lần ...</td>\n",
              "      <td>1</td>\n",
              "    </tr>\n",
              "    <tr>\n",
              "      <th>4</th>\n",
              "      <td>Pin dự phòng của hành khách bốc cháy tại nhà ...</td>\n",
              "      <td>1</td>\n",
              "    </tr>\n",
              "  </tbody>\n",
              "</table>\n",
              "</div>\n",
              "    <div class=\"colab-df-buttons\">\n",
              "\n",
              "  <div class=\"colab-df-container\">\n",
              "    <button class=\"colab-df-convert\" onclick=\"convertToInteractive('df-8aaa5cb2-9798-4c30-a8a1-dc3860f67823')\"\n",
              "            title=\"Convert this dataframe to an interactive table.\"\n",
              "            style=\"display:none;\">\n",
              "\n",
              "  <svg xmlns=\"http://www.w3.org/2000/svg\" height=\"24px\" viewBox=\"0 -960 960 960\">\n",
              "    <path d=\"M120-120v-720h720v720H120Zm60-500h600v-160H180v160Zm220 220h160v-160H400v160Zm0 220h160v-160H400v160ZM180-400h160v-160H180v160Zm440 0h160v-160H620v160ZM180-180h160v-160H180v160Zm440 0h160v-160H620v160Z\"/>\n",
              "  </svg>\n",
              "    </button>\n",
              "\n",
              "  <style>\n",
              "    .colab-df-container {\n",
              "      display:flex;\n",
              "      gap: 12px;\n",
              "    }\n",
              "\n",
              "    .colab-df-convert {\n",
              "      background-color: #E8F0FE;\n",
              "      border: none;\n",
              "      border-radius: 50%;\n",
              "      cursor: pointer;\n",
              "      display: none;\n",
              "      fill: #1967D2;\n",
              "      height: 32px;\n",
              "      padding: 0 0 0 0;\n",
              "      width: 32px;\n",
              "    }\n",
              "\n",
              "    .colab-df-convert:hover {\n",
              "      background-color: #E2EBFA;\n",
              "      box-shadow: 0px 1px 2px rgba(60, 64, 67, 0.3), 0px 1px 3px 1px rgba(60, 64, 67, 0.15);\n",
              "      fill: #174EA6;\n",
              "    }\n",
              "\n",
              "    .colab-df-buttons div {\n",
              "      margin-bottom: 4px;\n",
              "    }\n",
              "\n",
              "    [theme=dark] .colab-df-convert {\n",
              "      background-color: #3B4455;\n",
              "      fill: #D2E3FC;\n",
              "    }\n",
              "\n",
              "    [theme=dark] .colab-df-convert:hover {\n",
              "      background-color: #434B5C;\n",
              "      box-shadow: 0px 1px 3px 1px rgba(0, 0, 0, 0.15);\n",
              "      filter: drop-shadow(0px 1px 2px rgba(0, 0, 0, 0.3));\n",
              "      fill: #FFFFFF;\n",
              "    }\n",
              "  </style>\n",
              "\n",
              "    <script>\n",
              "      const buttonEl =\n",
              "        document.querySelector('#df-8aaa5cb2-9798-4c30-a8a1-dc3860f67823 button.colab-df-convert');\n",
              "      buttonEl.style.display =\n",
              "        google.colab.kernel.accessAllowed ? 'block' : 'none';\n",
              "\n",
              "      async function convertToInteractive(key) {\n",
              "        const element = document.querySelector('#df-8aaa5cb2-9798-4c30-a8a1-dc3860f67823');\n",
              "        const dataTable =\n",
              "          await google.colab.kernel.invokeFunction('convertToInteractive',\n",
              "                                                    [key], {});\n",
              "        if (!dataTable) return;\n",
              "\n",
              "        const docLinkHtml = 'Like what you see? Visit the ' +\n",
              "          '<a target=\"_blank\" href=https://colab.research.google.com/notebooks/data_table.ipynb>data table notebook</a>'\n",
              "          + ' to learn more about interactive tables.';\n",
              "        element.innerHTML = '';\n",
              "        dataTable['output_type'] = 'display_data';\n",
              "        await google.colab.output.renderOutput(dataTable, element);\n",
              "        const docLink = document.createElement('div');\n",
              "        docLink.innerHTML = docLinkHtml;\n",
              "        element.appendChild(docLink);\n",
              "      }\n",
              "    </script>\n",
              "  </div>\n",
              "\n",
              "\n",
              "<div id=\"df-02813bad-f134-4d3a-bca9-2f06d766dbd8\">\n",
              "  <button class=\"colab-df-quickchart\" onclick=\"quickchart('df-02813bad-f134-4d3a-bca9-2f06d766dbd8')\"\n",
              "            title=\"Suggest charts\"\n",
              "            style=\"display:none;\">\n",
              "\n",
              "<svg xmlns=\"http://www.w3.org/2000/svg\" height=\"24px\"viewBox=\"0 0 24 24\"\n",
              "     width=\"24px\">\n",
              "    <g>\n",
              "        <path d=\"M19 3H5c-1.1 0-2 .9-2 2v14c0 1.1.9 2 2 2h14c1.1 0 2-.9 2-2V5c0-1.1-.9-2-2-2zM9 17H7v-7h2v7zm4 0h-2V7h2v10zm4 0h-2v-4h2v4z\"/>\n",
              "    </g>\n",
              "</svg>\n",
              "  </button>\n",
              "\n",
              "<style>\n",
              "  .colab-df-quickchart {\n",
              "      --bg-color: #E8F0FE;\n",
              "      --fill-color: #1967D2;\n",
              "      --hover-bg-color: #E2EBFA;\n",
              "      --hover-fill-color: #174EA6;\n",
              "      --disabled-fill-color: #AAA;\n",
              "      --disabled-bg-color: #DDD;\n",
              "  }\n",
              "\n",
              "  [theme=dark] .colab-df-quickchart {\n",
              "      --bg-color: #3B4455;\n",
              "      --fill-color: #D2E3FC;\n",
              "      --hover-bg-color: #434B5C;\n",
              "      --hover-fill-color: #FFFFFF;\n",
              "      --disabled-bg-color: #3B4455;\n",
              "      --disabled-fill-color: #666;\n",
              "  }\n",
              "\n",
              "  .colab-df-quickchart {\n",
              "    background-color: var(--bg-color);\n",
              "    border: none;\n",
              "    border-radius: 50%;\n",
              "    cursor: pointer;\n",
              "    display: none;\n",
              "    fill: var(--fill-color);\n",
              "    height: 32px;\n",
              "    padding: 0;\n",
              "    width: 32px;\n",
              "  }\n",
              "\n",
              "  .colab-df-quickchart:hover {\n",
              "    background-color: var(--hover-bg-color);\n",
              "    box-shadow: 0 1px 2px rgba(60, 64, 67, 0.3), 0 1px 3px 1px rgba(60, 64, 67, 0.15);\n",
              "    fill: var(--button-hover-fill-color);\n",
              "  }\n",
              "\n",
              "  .colab-df-quickchart-complete:disabled,\n",
              "  .colab-df-quickchart-complete:disabled:hover {\n",
              "    background-color: var(--disabled-bg-color);\n",
              "    fill: var(--disabled-fill-color);\n",
              "    box-shadow: none;\n",
              "  }\n",
              "\n",
              "  .colab-df-spinner {\n",
              "    border: 2px solid var(--fill-color);\n",
              "    border-color: transparent;\n",
              "    border-bottom-color: var(--fill-color);\n",
              "    animation:\n",
              "      spin 1s steps(1) infinite;\n",
              "  }\n",
              "\n",
              "  @keyframes spin {\n",
              "    0% {\n",
              "      border-color: transparent;\n",
              "      border-bottom-color: var(--fill-color);\n",
              "      border-left-color: var(--fill-color);\n",
              "    }\n",
              "    20% {\n",
              "      border-color: transparent;\n",
              "      border-left-color: var(--fill-color);\n",
              "      border-top-color: var(--fill-color);\n",
              "    }\n",
              "    30% {\n",
              "      border-color: transparent;\n",
              "      border-left-color: var(--fill-color);\n",
              "      border-top-color: var(--fill-color);\n",
              "      border-right-color: var(--fill-color);\n",
              "    }\n",
              "    40% {\n",
              "      border-color: transparent;\n",
              "      border-right-color: var(--fill-color);\n",
              "      border-top-color: var(--fill-color);\n",
              "    }\n",
              "    60% {\n",
              "      border-color: transparent;\n",
              "      border-right-color: var(--fill-color);\n",
              "    }\n",
              "    80% {\n",
              "      border-color: transparent;\n",
              "      border-right-color: var(--fill-color);\n",
              "      border-bottom-color: var(--fill-color);\n",
              "    }\n",
              "    90% {\n",
              "      border-color: transparent;\n",
              "      border-bottom-color: var(--fill-color);\n",
              "    }\n",
              "  }\n",
              "</style>\n",
              "\n",
              "  <script>\n",
              "    async function quickchart(key) {\n",
              "      const quickchartButtonEl =\n",
              "        document.querySelector('#' + key + ' button');\n",
              "      quickchartButtonEl.disabled = true;  // To prevent multiple clicks.\n",
              "      quickchartButtonEl.classList.add('colab-df-spinner');\n",
              "      try {\n",
              "        const charts = await google.colab.kernel.invokeFunction(\n",
              "            'suggestCharts', [key], {});\n",
              "      } catch (error) {\n",
              "        console.error('Error during call to suggestCharts:', error);\n",
              "      }\n",
              "      quickchartButtonEl.classList.remove('colab-df-spinner');\n",
              "      quickchartButtonEl.classList.add('colab-df-quickchart-complete');\n",
              "    }\n",
              "    (() => {\n",
              "      let quickchartButtonEl =\n",
              "        document.querySelector('#df-02813bad-f134-4d3a-bca9-2f06d766dbd8 button');\n",
              "      quickchartButtonEl.style.display =\n",
              "        google.colab.kernel.accessAllowed ? 'block' : 'none';\n",
              "    })();\n",
              "  </script>\n",
              "</div>\n",
              "\n",
              "    </div>\n",
              "  </div>\n"
            ],
            "application/vnd.google.colaboratory.intrinsic+json": {
              "type": "dataframe",
              "variable_name": "df2",
              "summary": "{\n  \"name\": \"df2\",\n  \"rows\": 901,\n  \"fields\": [\n    {\n      \"column\": \"content\",\n      \"properties\": {\n        \"dtype\": \"string\",\n        \"num_unique_values\": 901,\n        \"samples\": [\n          \"C\\u00e1i k\\u1ebft l\\u00e0 anh ck \\u0111\\u00e3 b\\u1ecb tu\\u2019m, con c\\u00e1i l\\u1ea1i kh\\u1ed5 \\n#toiladanhocmon\",\n          \"G\\u01af\\u01a0NG NG\\u01af\\u1edcI T\\u1ed0T C\\u1ee6A CSGT H\\u00c0 N\\u1ed8I \\nS\\u00e1ng 11/6 v\\u1eeba qua, khi nh\\u1eadn \\u0111\\u01b0\\u1ee3c l\\u1eddi \\u0111\\u1ec1 ngh\\u1ecb h\\u1ed7 tr\\u1ee3 t\\u1eeb ng\\u01b0\\u1eddi d\\u00e2n \\u0111ang ch\\u1edf em g\\u00e1i c\\u00f3 d\\u1ea5u hi\\u1ec7u suy tim \\u0111i #c\\u1ea5pc\\u1ee9u, \\u0110\\u1ea1i \\u00fay #\\u0110\\u1eb7ngVi\\u1ec7tC\\u01b0\\u1eddng v\\u00e0 \\u0110\\u1ea1i \\u00fay #\\u0110\\u1eb7ngv\\u0103nHo\\u00e0i \\u0111\\u00e3 d\\u00f9ng xe m\\u00f4 t\\u00f4 chuy\\u00ean d\\u1ee5ng m\\u1edf \\u0111\\u01b0\\u1eddng, gi\\u00fap xe ch\\u1edf b\\u1ec7nh nh\\u00e2n \\u0111\\u1ebfn b\\u1ec7nh vi\\u1ec7n #B\\u1ea1chMai k\\u1ecbp th\\u1eddi. Nh\\u1edd s\\u1ef1 h\\u1ed7 tr\\u1ee3 k\\u1ecbp th\\u1eddi n\\u00e0y, b\\u1ec7nh nh\\u00e2n \\u0111\\u00e3 qua c\\u01a1n nguy k\\u1ecbch v\\u00e0 hi\\u1ec7n \\u0111ang h\\u1ed3i ph\\u1ee5c.\\nH\\u00e0nh \\u0111\\u1ed9ng c\\u1ee7a \\u0110\\u1ea1i \\u00fay C\\u01b0\\u1eddng v\\u00e0 Ho\\u00e0i th\\u1ec3 hi\\u1ec7n tinh th\\u1ea7n tr\\u00e1ch nhi\\u1ec7m v\\u00e0 l\\u00f2ng nh\\u00e2n \\u00e1i cao c\\u1ea3 c\\u1ee7a cs cand. S\\u1ef1 xu\\u1ea5t hi\\u1ec7n v\\u00e0 tr\\u1ee3 gi\\u00fap k\\u1ecbp th\\u1eddi c\\u1ee7a c\\u00e1c anh \\u0111\\u00e3 c\\u1ee9u s\\u1ed1ng m\\u1ed9t m\\u1ea1ng ng\\u01b0\\u1eddi, \\u0111em l\\u1ea1i ni\\u1ec1m vui cho gia \\u0111\\u00ecnh b\\u1ec7nh nh\\u00e2n. Ch\\u00fang ta c\\u1ea7n h\\u1ecdc h\\u1ecfi v\\u00e0 lan t\\u1ecfa nh\\u1eefng h\\u00e0nh \\u0111\\u1ed9ng \\u0111\\u1eb9p c\\u1ee7a c\\u00e1c chi\\u1ebfn s\\u0129 csgt. \\nM\\u1ecdi ng\\u01b0\\u1eddi h\\u00e3y h\\u1ecdc t\\u1eadp g\\u01b0\\u01a1ng ng\\u01b0\\u1eddi t\\u1ed1t vi\\u1ec7c t\\u1ed1t c\\u1ee7a c\\u00e1c chi\\u1ebfn s\\u0129 #CSGT H\\u00e0 N\\u1ed9i. M\\u1ed7i ng\\u01b0\\u1eddi, trong kh\\u1ea3 n\\u0103ng c\\u1ee7a m\\u00ecnh, \\u0111\\u1ec1u c\\u00f3 th\\u1ec3 l\\u00e0m nh\\u1eefng vi\\u1ec7c t\\u1ed1t, d\\u00f9 nh\\u1ecf b\\u00e9 nh\\u01b0ng \\u00fd ngh\\u0129a. H\\u00e3y c\\u00f9ng nhau t\\u1ea1o n\\u00ean nh\\u1eefng h\\u00e0nh \\u0111\\u1ed9ng \\u0111\\u1eb9p, lan t\\u1ecfa t\\u00ecnh y\\u00eau th\\u01b0\\u01a1ng v\\u00e0 s\\u1ef1 h\\u1ed7 tr\\u1ee3 trong c\\u1ed9ng \\u0111\\u1ed3ng.\\n#vntb #quechoa \\n<Qu\\u00ea Choa>\",\n          \"N\\u00d3NG: B\\u1eafc Giang ph\\u00e1t hi\\u1ec7n th\\u00eam 1 ca d\\u01b0\\u01a1ng t\\u00ednh v\\u1edbi b\\u1ec7nh b\\u1ea1ch h\\u1ea7u\"\n        ],\n        \"semantic_type\": \"\",\n        \"description\": \"\"\n      }\n    },\n    {\n      \"column\": \"label\",\n      \"properties\": {\n        \"dtype\": \"number\",\n        \"std\": 0,\n        \"min\": 0,\n        \"max\": 1,\n        \"num_unique_values\": 2,\n        \"samples\": [\n          0,\n          1\n        ],\n        \"semantic_type\": \"\",\n        \"description\": \"\"\n      }\n    }\n  ]\n}"
            }
          },
          "metadata": {},
          "execution_count": 14
        }
      ]
    },
    {
      "cell_type": "code",
      "source": [
        "df2['label'].value_counts().plot.bar()"
      ],
      "metadata": {
        "colab": {
          "base_uri": "https://localhost:8080/",
          "height": 461
        },
        "id": "O2v-byMmCkos",
        "outputId": "edcdde12-a69f-4cf9-cd1d-97119a0f1433"
      },
      "execution_count": 15,
      "outputs": [
        {
          "output_type": "execute_result",
          "data": {
            "text/plain": [
              "<Axes: xlabel='label'>"
            ]
          },
          "metadata": {},
          "execution_count": 15
        },
        {
          "output_type": "display_data",
          "data": {
            "text/plain": [
              "<Figure size 640x480 with 1 Axes>"
            ],
            "image/png": "[encoded data removed]"
          },
          "metadata": {}
        }
      ]
    },
    {
      "cell_type": "code",
      "source": [
        "def clean_text(text):\n",
        "    # Chuyển đổi văn bản thành chữ thường\n",
        "    text = text.lower()\n",
        "    # Xóa các URL\n",
        "    text = re.sub(r\"http\\S+\", \"\", text)\n",
        "    # Xóa các ký tự không phải là chữ cái, số hoặc dấu thanh cơ bản\n",
        "    text = re.sub(r\"[^a-zA-Z0-9\\sáàảãạăằắẳẵặâầấẩẫậèẹẻẽẽêềếểễệìíỉĩịòóỏõọôồốổỗộơờởỡợớùúủũụưừửữựứỳýỷỹỵđ]\", \"\", text)\n",
        "    # Xóa các khoảng trắng thừa\n",
        "    text = re.sub(r\"\\s+\", \" \", text).strip()\n",
        "\n",
        "    return text"
      ],
      "metadata": {
        "id": "2r5fn8g-CrLF"
      },
      "execution_count": 16,
      "outputs": []
    },
    {
      "cell_type": "code",
      "source": [
        "# Clean content\n",
        "df2['content'] = df2['content'].apply(clean_text)"
      ],
      "metadata": {
        "id": "iHR75PCHC0IF"
      },
      "execution_count": 17,
      "outputs": []
    },
    {
      "cell_type": "code",
      "source": [
        "df2.head()"
      ],
      "metadata": {
        "colab": {
          "base_uri": "https://localhost:8080/",
          "height": 206
        },
        "id": "FAsaCPIXC4ly",
        "outputId": "d3a10fbb-6f40-451d-a666-03547b79423a"
      },
      "execution_count": 18,
      "outputs": [
        {
          "output_type": "execute_result",
          "data": {
            "text/plain": [
              "                                             content  label\n",
              "0  vụ xe bán tải cố vượt rào chắn bị tàu hỏa tông...      1\n",
              "1  tphcm hơn 4600 ca mắc sốt xuất huyết nhiều điể...      1\n",
              "2  nóng ngộ độc hàng loạt tại trụ sở công ty mẹ t...      1\n",
              "3  ngày mai giá xăng trong nước có thể giảm lần t...      1\n",
              "4  pin dự phòng của hành khách bốc cháy tại nhà g...      1"
            ],
            "text/html": [
              "\n",
              "  <div id=\"df-8fcee0b3-f086-4089-96eb-7983bb2159b9\" class=\"colab-df-container\">\n",
              "    <div>\n",
              "<style scoped>\n",
              "    .dataframe tbody tr th:only-of-type {\n",
              "        vertical-align: middle;\n",
              "    }\n",
              "\n",
              "    .dataframe tbody tr th {\n",
              "        vertical-align: top;\n",
              "    }\n",
              "\n",
              "    .dataframe thead th {\n",
              "        text-align: right;\n",
              "    }\n",
              "</style>\n",
              "<table border=\"1\" class=\"dataframe\">\n",
              "  <thead>\n",
              "    <tr style=\"text-align: right;\">\n",
              "      <th></th>\n",
              "      <th>content</th>\n",
              "      <th>label</th>\n",
              "    </tr>\n",
              "  </thead>\n",
              "  <tbody>\n",
              "    <tr>\n",
              "      <th>0</th>\n",
              "      <td>vụ xe bán tải cố vượt rào chắn bị tàu hỏa tông...</td>\n",
              "      <td>1</td>\n",
              "    </tr>\n",
              "    <tr>\n",
              "      <th>1</th>\n",
              "      <td>tphcm hơn 4600 ca mắc sốt xuất huyết nhiều điể...</td>\n",
              "      <td>1</td>\n",
              "    </tr>\n",
              "    <tr>\n",
              "      <th>2</th>\n",
              "      <td>nóng ngộ độc hàng loạt tại trụ sở công ty mẹ t...</td>\n",
              "      <td>1</td>\n",
              "    </tr>\n",
              "    <tr>\n",
              "      <th>3</th>\n",
              "      <td>ngày mai giá xăng trong nước có thể giảm lần t...</td>\n",
              "      <td>1</td>\n",
              "    </tr>\n",
              "    <tr>\n",
              "      <th>4</th>\n",
              "      <td>pin dự phòng của hành khách bốc cháy tại nhà g...</td>\n",
              "      <td>1</td>\n",
              "    </tr>\n",
              "  </tbody>\n",
              "</table>\n",
              "</div>\n",
              "    <div class=\"colab-df-buttons\">\n",
              "\n",
              "  <div class=\"colab-df-container\">\n",
              "    <button class=\"colab-df-convert\" onclick=\"convertToInteractive('df-8fcee0b3-f086-4089-96eb-7983bb2159b9')\"\n",
              "            title=\"Convert this dataframe to an interactive table.\"\n",
              "            style=\"display:none;\">\n",
              "\n",
              "  <svg xmlns=\"http://www.w3.org/2000/svg\" height=\"24px\" viewBox=\"0 -960 960 960\">\n",
              "    <path d=\"M120-120v-720h720v720H120Zm60-500h600v-160H180v160Zm220 220h160v-160H400v160Zm0 220h160v-160H400v160ZM180-400h160v-160H180v160Zm440 0h160v-160H620v160ZM180-180h160v-160H180v160Zm440 0h160v-160H620v160Z\"/>\n",
              "  </svg>\n",
              "    </button>\n",
              "\n",
              "  <style>\n",
              "    .colab-df-container {\n",
              "      display:flex;\n",
              "      gap: 12px;\n",
              "    }\n",
              "\n",
              "    .colab-df-convert {\n",
              "      background-color: #E8F0FE;\n",
              "      border: none;\n",
              "      border-radius: 50%;\n",
              "      cursor: pointer;\n",
              "      display: none;\n",
              "      fill: #1967D2;\n",
              "      height: 32px;\n",
              "      padding: 0 0 0 0;\n",
              "      width: 32px;\n",
              "    }\n",
              "\n",
              "    .colab-df-convert:hover {\n",
              "      background-color: #E2EBFA;\n",
              "      box-shadow: 0px 1px 2px rgba(60, 64, 67, 0.3), 0px 1px 3px 1px rgba(60, 64, 67, 0.15);\n",
              "      fill: #174EA6;\n",
              "    }\n",
              "\n",
              "    .colab-df-buttons div {\n",
              "      margin-bottom: 4px;\n",
              "    }\n",
              "\n",
              "    [theme=dark] .colab-df-convert {\n",
              "      background-color: #3B4455;\n",
              "      fill: #D2E3FC;\n",
              "    }\n",
              "\n",
              "    [theme=dark] .colab-df-convert:hover {\n",
              "      background-color: #434B5C;\n",
              "      box-shadow: 0px 1px 3px 1px rgba(0, 0, 0, 0.15);\n",
              "      filter: drop-shadow(0px 1px 2px rgba(0, 0, 0, 0.3));\n",
              "      fill: #FFFFFF;\n",
              "    }\n",
              "  </style>\n",
              "\n",
              "    <script>\n",
              "      const buttonEl =\n",
              "        document.querySelector('#df-8fcee0b3-f086-4089-96eb-7983bb2159b9 button.colab-df-convert');\n",
              "      buttonEl.style.display =\n",
              "        google.colab.kernel.accessAllowed ? 'block' : 'none';\n",
              "\n",
              "      async function convertToInteractive(key) {\n",
              "        const element = document.querySelector('#df-8fcee0b3-f086-4089-96eb-7983bb2159b9');\n",
              "        const dataTable =\n",
              "          await google.colab.kernel.invokeFunction('convertToInteractive',\n",
              "                                                    [key], {});\n",
              "        if (!dataTable) return;\n",
              "\n",
              "        const docLinkHtml = 'Like what you see? Visit the ' +\n",
              "          '<a target=\"_blank\" href=https://colab.research.google.com/notebooks/data_table.ipynb>data table notebook</a>'\n",
              "          + ' to learn more about interactive tables.';\n",
              "        element.innerHTML = '';\n",
              "        dataTable['output_type'] = 'display_data';\n",
              "        await google.colab.output.renderOutput(dataTable, element);\n",
              "        const docLink = document.createElement('div');\n",
              "        docLink.innerHTML = docLinkHtml;\n",
              "        element.appendChild(docLink);\n",
              "      }\n",
              "    </script>\n",
              "  </div>\n",
              "\n",
              "\n",
              "<div id=\"df-789e08b6-8d14-4cc7-9f0d-039ca3b7a14c\">\n",
              "  <button class=\"colab-df-quickchart\" onclick=\"quickchart('df-789e08b6-8d14-4cc7-9f0d-039ca3b7a14c')\"\n",
              "            title=\"Suggest charts\"\n",
              "            style=\"display:none;\">\n",
              "\n",
              "<svg xmlns=\"http://www.w3.org/2000/svg\" height=\"24px\"viewBox=\"0 0 24 24\"\n",
              "     width=\"24px\">\n",
              "    <g>\n",
              "        <path d=\"M19 3H5c-1.1 0-2 .9-2 2v14c0 1.1.9 2 2 2h14c1.1 0 2-.9 2-2V5c0-1.1-.9-2-2-2zM9 17H7v-7h2v7zm4 0h-2V7h2v10zm4 0h-2v-4h2v4z\"/>\n",
              "    </g>\n",
              "</svg>\n",
              "  </button>\n",
              "\n",
              "<style>\n",
              "  .colab-df-quickchart {\n",
              "      --bg-color: #E8F0FE;\n",
              "      --fill-color: #1967D2;\n",
              "      --hover-bg-color: #E2EBFA;\n",
              "      --hover-fill-color: #174EA6;\n",
              "      --disabled-fill-color: #AAA;\n",
              "      --disabled-bg-color: #DDD;\n",
              "  }\n",
              "\n",
              "  [theme=dark] .colab-df-quickchart {\n",
              "      --bg-color: #3B4455;\n",
              "      --fill-color: #D2E3FC;\n",
              "      --hover-bg-color: #434B5C;\n",
              "      --hover-fill-color: #FFFFFF;\n",
              "      --disabled-bg-color: #3B4455;\n",
              "      --disabled-fill-color: #666;\n",
              "  }\n",
              "\n",
              "  .colab-df-quickchart {\n",
              "    background-color: var(--bg-color);\n",
              "    border: none;\n",
              "    border-radius: 50%;\n",
              "    cursor: pointer;\n",
              "    display: none;\n",
              "    fill: var(--fill-color);\n",
              "    height: 32px;\n",
              "    padding: 0;\n",
              "    width: 32px;\n",
              "  }\n",
              "\n",
              "  .colab-df-quickchart:hover {\n",
              "    background-color: var(--hover-bg-color);\n",
              "    box-shadow: 0 1px 2px rgba(60, 64, 67, 0.3), 0 1px 3px 1px rgba(60, 64, 67, 0.15);\n",
              "    fill: var(--button-hover-fill-color);\n",
              "  }\n",
              "\n",
              "  .colab-df-quickchart-complete:disabled,\n",
              "  .colab-df-quickchart-complete:disabled:hover {\n",
              "    background-color: var(--disabled-bg-color);\n",
              "    fill: var(--disabled-fill-color);\n",
              "    box-shadow: none;\n",
              "  }\n",
              "\n",
              "  .colab-df-spinner {\n",
              "    border: 2px solid var(--fill-color);\n",
              "    border-color: transparent;\n",
              "    border-bottom-color: var(--fill-color);\n",
              "    animation:\n",
              "      spin 1s steps(1) infinite;\n",
              "  }\n",
              "\n",
              "  @keyframes spin {\n",
              "    0% {\n",
              "      border-color: transparent;\n",
              "      border-bottom-color: var(--fill-color);\n",
              "      border-left-color: var(--fill-color);\n",
              "    }\n",
              "    20% {\n",
              "      border-color: transparent;\n",
              "      border-left-color: var(--fill-color);\n",
              "      border-top-color: var(--fill-color);\n",
              "    }\n",
              "    30% {\n",
              "      border-color: transparent;\n",
              "      border-left-color: var(--fill-color);\n",
              "      border-top-color: var(--fill-color);\n",
              "      border-right-color: var(--fill-color);\n",
              "    }\n",
              "    40% {\n",
              "      border-color: transparent;\n",
              "      border-right-color: var(--fill-color);\n",
              "      border-top-color: var(--fill-color);\n",
              "    }\n",
              "    60% {\n",
              "      border-color: transparent;\n",
              "      border-right-color: var(--fill-color);\n",
              "    }\n",
              "    80% {\n",
              "      border-color: transparent;\n",
              "      border-right-color: var(--fill-color);\n",
              "      border-bottom-color: var(--fill-color);\n",
              "    }\n",
              "    90% {\n",
              "      border-color: transparent;\n",
              "      border-bottom-color: var(--fill-color);\n",
              "    }\n",
              "  }\n",
              "</style>\n",
              "\n",
              "  <script>\n",
              "    async function quickchart(key) {\n",
              "      const quickchartButtonEl =\n",
              "        document.querySelector('#' + key + ' button');\n",
              "      quickchartButtonEl.disabled = true;  // To prevent multiple clicks.\n",
              "      quickchartButtonEl.classList.add('colab-df-spinner');\n",
              "      try {\n",
              "        const charts = await google.colab.kernel.invokeFunction(\n",
              "            'suggestCharts', [key], {});\n",
              "      } catch (error) {\n",
              "        console.error('Error during call to suggestCharts:', error);\n",
              "      }\n",
              "      quickchartButtonEl.classList.remove('colab-df-spinner');\n",
              "      quickchartButtonEl.classList.add('colab-df-quickchart-complete');\n",
              "    }\n",
              "    (() => {\n",
              "      let quickchartButtonEl =\n",
              "        document.querySelector('#df-789e08b6-8d14-4cc7-9f0d-039ca3b7a14c button');\n",
              "      quickchartButtonEl.style.display =\n",
              "        google.colab.kernel.accessAllowed ? 'block' : 'none';\n",
              "    })();\n",
              "  </script>\n",
              "</div>\n",
              "\n",
              "    </div>\n",
              "  </div>\n"
            ],
            "application/vnd.google.colaboratory.intrinsic+json": {
              "type": "dataframe",
              "variable_name": "df2",
              "summary": "{\n  \"name\": \"df2\",\n  \"rows\": 901,\n  \"fields\": [\n    {\n      \"column\": \"content\",\n      \"properties\": {\n        \"dtype\": \"string\",\n        \"num_unique_values\": 901,\n        \"samples\": [\n          \"c\\u00e1i k\\u1ebft l\\u00e0 anh ck \\u0111\\u00e3 b\\u1ecb tum con c\\u00e1i l\\u1ea1i kh\\u1ed5 toiladanhocmon\",\n          \"g\\u01b0\\u01a1ng ng\\u01b0\\u1eddi t\\u1ed1t c\\u1ee7a csgt h\\u00e0 n\\u1ed9i s\\u00e1ng 116 v\\u1eeba qua khi nh\\u1eadn \\u0111\\u01b0\\u1ee3c l\\u1eddi \\u0111\\u1ec1 ngh\\u1ecb h\\u1ed7 tr\\u1ee3 t\\u1eeb ng\\u01b0\\u1eddi d\\u00e2n \\u0111ang ch\\u1edf em g\\u00e1i c\\u00f3 d\\u1ea5u hi\\u1ec7u suy tim \\u0111i c\\u1ea5pc\\u1ee9u \\u0111\\u1ea1i \\u00fay \\u0111\\u1eb7ngvi\\u1ec7tc\\u01b0\\u1eddng v\\u00e0 \\u0111\\u1ea1i \\u00fay \\u0111\\u1eb7ngv\\u0103nho\\u00e0i \\u0111\\u00e3 d\\u00f9ng xe m\\u00f4 t\\u00f4 chuy\\u00ean d\\u1ee5ng m\\u1edf \\u0111\\u01b0\\u1eddng gi\\u00fap xe ch\\u1edf b\\u1ec7nh nh\\u00e2n \\u0111\\u1ebfn b\\u1ec7nh vi\\u1ec7n b\\u1ea1chmai k\\u1ecbp th\\u1eddi nh\\u1edd s\\u1ef1 h\\u1ed7 tr\\u1ee3 k\\u1ecbp th\\u1eddi n\\u00e0y b\\u1ec7nh nh\\u00e2n \\u0111\\u00e3 qua c\\u01a1n nguy k\\u1ecbch v\\u00e0 hi\\u1ec7n \\u0111ang h\\u1ed3i ph\\u1ee5c h\\u00e0nh \\u0111\\u1ed9ng c\\u1ee7a \\u0111\\u1ea1i \\u00fay c\\u01b0\\u1eddng v\\u00e0 ho\\u00e0i th\\u1ec3 hi\\u1ec7n tinh th\\u1ea7n tr\\u00e1ch nhi\\u1ec7m v\\u00e0 l\\u00f2ng nh\\u00e2n \\u00e1i cao c\\u1ea3 c\\u1ee7a cs cand s\\u1ef1 xu\\u1ea5t hi\\u1ec7n v\\u00e0 tr\\u1ee3 gi\\u00fap k\\u1ecbp th\\u1eddi c\\u1ee7a c\\u00e1c anh \\u0111\\u00e3 c\\u1ee9u s\\u1ed1ng m\\u1ed9t m\\u1ea1ng ng\\u01b0\\u1eddi \\u0111em l\\u1ea1i ni\\u1ec1m vui cho gia \\u0111\\u00ecnh b\\u1ec7nh nh\\u00e2n ch\\u00fang ta c\\u1ea7n h\\u1ecdc h\\u1ecfi v\\u00e0 lan t\\u1ecfa nh\\u1eefng h\\u00e0nh \\u0111\\u1ed9ng \\u0111\\u1eb9p c\\u1ee7a c\\u00e1c chi\\u1ebfn s\\u0129 csgt m\\u1ecdi ng\\u01b0\\u1eddi h\\u00e3y h\\u1ecdc t\\u1eadp g\\u01b0\\u01a1ng ng\\u01b0\\u1eddi t\\u1ed1t vi\\u1ec7c t\\u1ed1t c\\u1ee7a c\\u00e1c chi\\u1ebfn s\\u0129 csgt h\\u00e0 n\\u1ed9i m\\u1ed7i ng\\u01b0\\u1eddi trong kh\\u1ea3 n\\u0103ng c\\u1ee7a m\\u00ecnh \\u0111\\u1ec1u c\\u00f3 th\\u1ec3 l\\u00e0m nh\\u1eefng vi\\u1ec7c t\\u1ed1t d\\u00f9 nh\\u1ecf b nh\\u01b0ng \\u00fd ngh\\u0129a h\\u00e3y c\\u00f9ng nhau t\\u1ea1o n\\u00ean nh\\u1eefng h\\u00e0nh \\u0111\\u1ed9ng \\u0111\\u1eb9p lan t\\u1ecfa t\\u00ecnh y\\u00eau th\\u01b0\\u01a1ng v\\u00e0 s\\u1ef1 h\\u1ed7 tr\\u1ee3 trong c\\u1ed9ng \\u0111\\u1ed3ng vntb quechoa qu\\u00ea choa\",\n          \"n\\u00f3ng b\\u1eafc giang ph\\u00e1t hi\\u1ec7n th\\u00eam 1 ca d\\u01b0\\u01a1ng t\\u00ednh v\\u1edbi b\\u1ec7nh b\\u1ea1ch h\\u1ea7u\"\n        ],\n        \"semantic_type\": \"\",\n        \"description\": \"\"\n      }\n    },\n    {\n      \"column\": \"label\",\n      \"properties\": {\n        \"dtype\": \"number\",\n        \"std\": 0,\n        \"min\": 0,\n        \"max\": 1,\n        \"num_unique_values\": 2,\n        \"samples\": [\n          0,\n          1\n        ],\n        \"semantic_type\": \"\",\n        \"description\": \"\"\n      }\n    }\n  ]\n}"
            }
          },
          "metadata": {},
          "execution_count": 18
        }
      ]
    },
    {
      "cell_type": "code",
      "source": [
        "# Tạo bước tăng cường dữ liệu\n",
        "ros = RandomOverSampler()\n",
        "df2['content'] = df2['content'].astype(str)  # Đảm bảo cột nội dung là kiểu chuỗi\n",
        "x_over, y_over = ros.fit_resample(df2[['content']], df2['label'])\n",
        "df2 = pd.DataFrame(data=x_over, columns=['content'])\n",
        "df2['label'] = y_over\n",
        "\n",
        "# Kiểm tra phân phối nhãn\n",
        "df2['label'].value_counts().plot.bar()"
      ],
      "metadata": {
        "colab": {
          "base_uri": "https://localhost:8080/",
          "height": 461
        },
        "id": "I20T5eJbDNWQ",
        "outputId": "7fcbf558-2160-4b0c-cff5-ec2526bfb0e9"
      },
      "execution_count": 19,
      "outputs": [
        {
          "output_type": "execute_result",
          "data": {
            "text/plain": [
              "<Axes: xlabel='label'>"
            ]
          },
          "metadata": {},
          "execution_count": 19
        },
        {
          "output_type": "display_data",
          "data": {
            "text/plain": [
              "<Figure size 640x480 with 1 Axes>"
            ],
            "image/png": "[encoded data removed]"
          },
          "metadata": {}
        }
      ]
    },
    {
      "cell_type": "code",
      "source": [
        "df2.shape"
      ],
      "metadata": {
        "colab": {
          "base_uri": "https://localhost:8080/"
        },
        "id": "bOwAU5UjEuX6",
        "outputId": "a24d6226-381d-4514-9aa4-21726361a588"
      },
      "execution_count": 20,
      "outputs": [
        {
          "output_type": "execute_result",
          "data": {
            "text/plain": [
              "(1204, 2)"
            ]
          },
          "metadata": {},
          "execution_count": 20
        }
      ]
    },
    {
      "cell_type": "code",
      "source": [
        "tokenizer = AutoTokenizer.from_pretrained(\"vinai/phobert-base\")\n",
        "model = AutoModel.from_pretrained(\"vinai/phobert-base\")\n"
      ],
      "metadata": {
        "id": "jTwdLwV9Ewam"
      },
      "execution_count": 22,
      "outputs": []
    },
    {
      "cell_type": "code",
      "source": [
        "# Chia dữ liệu thành tập huấn luyện và kiểm tra\n",
        "train_texts, val_texts, train_labels, val_labels = train_test_split(df2['content'], df2['label'], test_size=0.2)"
      ],
      "metadata": {
        "id": "AZP0t_7uFASJ"
      },
      "execution_count": 23,
      "outputs": []
    },
    {
      "cell_type": "code",
      "source": [
        "# Tokenize dữ liệu với padding\n",
        "def tokenize_and_pad(texts, tokenizer, max_length=512):\n",
        "    encodings = tokenizer(\n",
        "        texts,\n",
        "        truncation=True,\n",
        "        padding='max_length',  # Thêm padding để tất cả các văn bản có cùng chiều dài\n",
        "        max_length=max_length\n",
        "    )\n",
        "    return encodings\n",
        "\n",
        "train_encodings = tokenize_and_pad(train_texts.tolist(), tokenizer, max_length=512)\n",
        "val_encodings = tokenize_and_pad(val_texts.tolist(), tokenizer, max_length=512)"
      ],
      "metadata": {
        "id": "VQvjHNpUFDmL"
      },
      "execution_count": 24,
      "outputs": []
    },
    {
      "cell_type": "code",
      "source": [
        "# Tokenize dữ liệu với cắt ngắn văn bản\n",
        "train_encodings = tokenizer(train_texts.tolist(), truncation=True, padding=True, max_length=256, truncation_strategy='longest_first')\n",
        "val_encodings = tokenizer(val_texts.tolist(), truncation=True, padding=True, max_length=256, truncation_strategy='longest_first')\n"
      ],
      "metadata": {
        "id": "V1Z0omZ5SoDF"
      },
      "execution_count": 31,
      "outputs": []
    },
    {
      "cell_type": "code",
      "source": [
        "# Kiểm tra dữ liệu sau khi token hóa\n",
        "print(train_encodings.keys())\n",
        "print(val_encodings.keys())\n",
        "print(train_encodings['input_ids'][:2])  # Hiển thị một vài mẫu tokenized\n",
        "print(val_encodings['input_ids'][:2])\n"
      ],
      "metadata": {
        "colab": {
          "base_uri": "https://localhost:8080/"
        },
        "id": "BYVLLzqGFFsn",
        "outputId": "1448ecad-0102-4502-95f6-834f0714f8b9"
      },
      "execution_count": 32,
      "outputs": [
        {
          "output_type": "stream",
          "name": "stdout",
          "text": [
            "dict_keys(['input_ids', 'token_type_ids', 'attention_mask'])\n",
            "dict_keys(['input_ids', 'token_type_ids', 'attention_mask'])\n",
            "[[0, 452, 17, 1019, 1083, 1392, 1392, 17, 41, 7, 452, 1410, 702, 277, 13, 2162, 2380, 1392, 11, 8271, 2477, 452, 4311, 17055, 18370, 2, 1, 1, 1, 1, 1, 1, 1, 1, 1, 1, 1, 1, 1, 1, 1, 1, 1, 1, 1, 1, 1, 1, 1, 1, 1, 1, 1, 1, 1, 1, 1, 1, 1, 1, 1, 1, 1, 1, 1, 1, 1, 1, 1, 1, 1, 1, 1, 1, 1, 1, 1, 1, 1, 1, 1, 1, 1, 1, 1, 1, 1, 1, 1, 1, 1, 1, 1, 1, 1, 1, 1, 1, 1, 1, 1, 1, 1, 1, 1, 1, 1, 1, 1, 1, 1, 1, 1, 1, 1, 1, 1, 1, 1, 1, 1, 1, 1, 1, 1, 1, 1, 1, 1, 1, 1, 1, 1, 1, 1, 1, 1, 1, 1, 1, 1, 1, 1, 1, 1, 1, 1, 1, 1, 1, 1, 1, 1, 1, 1, 1, 1, 1, 1, 1, 1, 1, 1, 1, 1, 1, 1, 1, 1, 1, 1, 1, 1, 1, 1, 1, 1, 1, 1, 1, 1, 1, 1, 1, 1, 1, 1, 1, 1, 1, 1, 1, 1, 1, 1, 1, 1, 1, 1, 1, 1, 1, 1, 1, 1, 1, 1, 1, 1, 1, 1, 1, 1, 1, 1, 1, 1, 1, 1, 1, 1, 1, 1, 1, 1, 1, 1, 1, 1, 1, 1, 1, 1, 1, 1, 1, 1, 1, 1, 1, 1, 1, 1, 1, 1, 1, 1, 1, 1, 1, 1, 1, 1, 1, 1, 1], [0, 1645, 939, 53, 16, 528, 344, 53, 14427, 2710, 328, 13, 212, 2288, 1187, 1701, 1204, 4899, 2057, 34, 109, 27497, 43269, 2958, 1388, 12578, 14, 1675, 57, 418, 289, 7, 213, 1388, 16174, 5298, 123, 914, 25, 12879, 3440, 52, 918, 1354, 35, 24848, 1002, 1395, 22924, 1395, 1187, 1600, 1664, 14, 154, 11, 47640, 14527, 6681, 80, 5255, 713, 1224, 8598, 12, 230, 2404, 6928, 278, 2710, 328, 11, 2482, 2932, 34, 751, 36093, 70, 8, 452, 24848, 1002, 272, 18075, 3615, 1224, 8598, 359, 3866, 15, 3931, 4181, 213, 123, 34, 550, 105, 352, 682, 28, 179, 269, 528, 344, 14, 2726, 30, 21, 732, 1714, 1772, 21740, 18075, 171, 7, 18, 452, 24848, 1002, 77, 572, 70, 14, 154, 11, 59, 36, 1941, 1889, 278, 630, 1510, 1224, 8598, 7, 2405, 80, 289, 409, 30, 3931, 4181, 213, 123, 287, 8, 12, 55164, 1440, 572, 237, 60, 108, 11, 1645, 939, 7, 18, 452, 24848, 1002, 570, 142, 611, 365, 3945, 61, 4148, 2849, 6, 605, 55, 25, 444, 302, 30, 882, 1387, 1187, 9583, 83, 213, 193, 24848, 1002, 14, 18075, 3615, 13, 3931, 4181, 213, 123, 611, 4263, 5357, 9, 83, 213, 14, 37953, 4253, 143, 1645, 2370, 84, 258, 13, 24848, 1002, 287, 15, 5255, 11050, 24848, 1002, 10336, 44680, 1645, 939, 5941, 9393, 405, 136, 2919, 1283, 1395, 22924, 1395, 1187, 1600, 1664, 24848, 1002, 14, 30, 1568, 7771, 10723, 906, 100, 123, 7, 882, 626, 30, 3931, 4181, 2919, 1283, 3931, 4181, 14, 154, 6, 2]]\n",
            "[[0, 490, 13676, 2181, 89, 1187, 2380, 155, 1698, 40687, 983, 9779, 769, 58102, 1517, 84, 748, 431, 2749, 5516, 363, 515, 810, 2889, 1602, 5759, 8325, 2, 1, 1, 1, 1, 1, 1, 1, 1, 1, 1, 1, 1, 1, 1, 1, 1, 1, 1, 1, 1, 1, 1, 1, 1, 1, 1, 1, 1, 1, 1, 1, 1, 1, 1, 1, 1, 1, 1, 1, 1, 1, 1, 1, 1, 1, 1, 1, 1, 1, 1, 1, 1, 1, 1, 1, 1, 1, 1, 1, 1, 1, 1, 1, 1, 1, 1, 1, 1, 1, 1, 1, 1, 1, 1, 1, 1, 1, 1, 1, 1, 1, 1, 1, 1, 1, 1, 1, 1, 1, 1, 1, 1, 1, 1, 1, 1, 1, 1, 1, 1, 1, 1, 1, 1, 1, 1, 1, 1, 1, 1, 1, 1, 1, 1, 1, 1, 1, 1, 1, 1, 1, 1, 1, 1, 1, 1, 1, 1, 1, 1, 1, 1, 1, 1, 1, 1, 1, 1, 1, 1, 1, 1, 1, 1, 1, 1, 1, 1, 1, 1, 1, 1, 1, 1, 1, 1, 1, 1, 1, 1, 1, 1, 1, 1, 1, 1, 1, 1, 1, 1, 1, 1, 1, 1, 1, 1, 1, 1, 1, 1, 1, 1, 1, 1, 1, 1, 1, 1, 1, 1, 1, 1, 1, 1, 1, 1, 1, 1, 1, 1, 1, 1, 1, 1, 1, 1, 1, 1, 1, 1, 1, 1, 1, 1, 1, 1, 1, 1, 1, 1, 1, 1, 1, 1, 1, 1, 1, 1], [0, 10, 21, 3537, 3685, 12, 2151, 215, 346, 4181, 87, 53, 1093, 12813, 2765, 5683, 5408, 311, 33, 78, 1556, 27035, 46, 5281, 4864, 38, 66, 11, 15758, 5941, 1766, 178, 698, 5932, 1734, 1766, 286, 26865, 58, 38, 11, 430, 574, 13, 2919, 3110, 1038, 13458, 311, 5089, 718, 5932, 1734, 2, 1, 1, 1, 1, 1, 1, 1, 1, 1, 1, 1, 1, 1, 1, 1, 1, 1, 1, 1, 1, 1, 1, 1, 1, 1, 1, 1, 1, 1, 1, 1, 1, 1, 1, 1, 1, 1, 1, 1, 1, 1, 1, 1, 1, 1, 1, 1, 1, 1, 1, 1, 1, 1, 1, 1, 1, 1, 1, 1, 1, 1, 1, 1, 1, 1, 1, 1, 1, 1, 1, 1, 1, 1, 1, 1, 1, 1, 1, 1, 1, 1, 1, 1, 1, 1, 1, 1, 1, 1, 1, 1, 1, 1, 1, 1, 1, 1, 1, 1, 1, 1, 1, 1, 1, 1, 1, 1, 1, 1, 1, 1, 1, 1, 1, 1, 1, 1, 1, 1, 1, 1, 1, 1, 1, 1, 1, 1, 1, 1, 1, 1, 1, 1, 1, 1, 1, 1, 1, 1, 1, 1, 1, 1, 1, 1, 1, 1, 1, 1, 1, 1, 1, 1, 1, 1, 1, 1, 1, 1, 1, 1, 1, 1, 1, 1, 1, 1, 1, 1, 1, 1, 1, 1, 1, 1, 1, 1, 1, 1, 1, 1, 1, 1, 1, 1, 1, 1, 1, 1, 1, 1, 1, 1, 1, 1, 1, 1, 1, 1, 1, 1, 1]]\n"
          ]
        }
      ]
    },
    {
      "cell_type": "code",
      "source": [
        "train_labels = np.array(train_labels).astype(int)\n",
        "val_labels = np.array(val_labels).astype(int)"
      ],
      "metadata": {
        "id": "FjoF8x-5QtUH"
      },
      "execution_count": 33,
      "outputs": []
    },
    {
      "cell_type": "code",
      "source": [
        "# Kiểm tra nhãn\n",
        "print(set(train_labels))\n",
        "print(set(val_labels))\n"
      ],
      "metadata": {
        "colab": {
          "base_uri": "https://localhost:8080/"
        },
        "id": "zwTStypKFHmb",
        "outputId": "764f0c56-70a1-4cbb-b7d4-a2a315f59ee1"
      },
      "execution_count": 34,
      "outputs": [
        {
          "output_type": "stream",
          "name": "stdout",
          "text": [
            "{0, 1}\n",
            "{0, 1}\n"
          ]
        }
      ]
    },
    {
      "cell_type": "code",
      "source": [
        "import torch\n",
        "from torch.utils.data import Dataset, DataLoader\n",
        "\n",
        "class FakeNewsDataset(Dataset):\n",
        "    def __init__(self, encodings, labels):\n",
        "        self.encodings = encodings\n",
        "        self.labels = labels\n",
        "\n",
        "    def __getitem__(self, idx):\n",
        "        item = {key: torch.tensor(val[idx]) for key, val in self.encodings.items()}\n",
        "        item['labels'] = torch.tensor(self.labels[idx]).squeeze()  # Đảm bảo nhãn có kích thước đúng\n",
        "        return item\n",
        "\n",
        "    def __len__(self):\n",
        "        return len(self.labels)\n",
        "\n",
        "train_dataset = FakeNewsDataset(train_encodings, train_labels.tolist())\n",
        "val_dataset = FakeNewsDataset(val_encodings, val_labels.tolist())\n",
        "\n",
        "train_loader = DataLoader(train_dataset, batch_size=8, shuffle=True)\n",
        "val_loader = DataLoader(val_dataset, batch_size=8, shuffle=False)\n"
      ],
      "metadata": {
        "id": "S08BYmVXFJ2P"
      },
      "execution_count": 35,
      "outputs": []
    },
    {
      "cell_type": "code",
      "source": [
        "\n",
        "# Tải mô hình phân loại\n",
        "model = AutoModelForSequenceClassification.from_pretrained(\"vinai/phobert-base\", num_labels=2)\n",
        "\n",
        "# Thiết lập các tham số huấn luyện\n",
        "training_args = TrainingArguments(\n",
        "    output_dir='./results',\n",
        "    num_train_epochs=3,\n",
        "    per_device_train_batch_size=8,\n",
        "    per_device_eval_batch_size=8,\n",
        "    warmup_steps=500,\n",
        "    weight_decay=0.01,\n",
        "    logging_dir='./logs',\n",
        "    logging_steps=10,\n",
        ")\n",
        "\n",
        "# Khởi tạo Trainer\n",
        "trainer = Trainer(\n",
        "    model=model,\n",
        "    args=training_args,\n",
        "    train_dataset=train_dataset,\n",
        "    eval_dataset=val_dataset\n",
        ")\n",
        "\n",
        "# Huấn luyện mô hình\n",
        "trainer.train()"
      ],
      "metadata": {
        "colab": {
          "base_uri": "https://localhost:8080/",
          "height": 1000
        },
        "id": "tA1mLLteFMZO",
        "outputId": "99809c28-3619-4011-d6fa-e8ad65c25f73"
      },
      "execution_count": 36,
      "outputs": [
        {
          "output_type": "stream",
          "name": "stderr",
          "text": [
            "Some weights of RobertaForSequenceClassification were not initialized from the model checkpoint at vinai/phobert-base and are newly initialized: ['classifier.dense.bias', 'classifier.dense.weight', 'classifier.out_proj.bias', 'classifier.out_proj.weight']\n",
            "You should probably TRAIN this model on a down-stream task to be able to use it for predictions and inference.\n"
          ]
        },
        {
          "output_type": "display_data",
          "data": {
            "text/plain": [
              "<IPython.core.display.HTML object>"
            ],
            "text/html": [
              "\n",
              "    <div>\n",
              "      \n",
              "      <progress value='363' max='363' style='width:300px; height:20px; vertical-align: middle;'></progress>\n",
              "      [363/363 2:21:03, Epoch 3/3]\n",
              "    </div>\n",
              "    <table border=\"1\" class=\"dataframe\">\n",
              "  <thead>\n",
              " <tr style=\"text-align: left;\">\n",
              "      <th>Step</th>\n",
              "      <th>Training Loss</th>\n",
              "    </tr>\n",
              "  </thead>\n",
              "  <tbody>\n",
              "    <tr>\n",
              "      <td>10</td>\n",
              "      <td>0.694000</td>\n",
              "    </tr>\n",
              "    <tr>\n",
              "      <td>20</td>\n",
              "      <td>0.680200</td>\n",
              "    </tr>\n",
              "    <tr>\n",
              "      <td>30</td>\n",
              "      <td>0.683100</td>\n",
              "    </tr>\n",
              "    <tr>\n",
              "      <td>40</td>\n",
              "      <td>0.672900</td>\n",
              "    </tr>\n",
              "    <tr>\n",
              "      <td>50</td>\n",
              "      <td>0.676000</td>\n",
              "    </tr>\n",
              "    <tr>\n",
              "      <td>60</td>\n",
              "      <td>0.656200</td>\n",
              "    </tr>\n",
              "    <tr>\n",
              "      <td>70</td>\n",
              "      <td>0.654900</td>\n",
              "    </tr>\n",
              "    <tr>\n",
              "      <td>80</td>\n",
              "      <td>0.610500</td>\n",
              "    </tr>\n",
              "    <tr>\n",
              "      <td>90</td>\n",
              "      <td>0.611600</td>\n",
              "    </tr>\n",
              "    <tr>\n",
              "      <td>100</td>\n",
              "      <td>0.558100</td>\n",
              "    </tr>\n",
              "    <tr>\n",
              "      <td>110</td>\n",
              "      <td>0.597000</td>\n",
              "    </tr>\n",
              "    <tr>\n",
              "      <td>120</td>\n",
              "      <td>0.457400</td>\n",
              "    </tr>\n",
              "    <tr>\n",
              "      <td>130</td>\n",
              "      <td>0.487800</td>\n",
              "    </tr>\n",
              "    <tr>\n",
              "      <td>140</td>\n",
              "      <td>0.428700</td>\n",
              "    </tr>\n",
              "    <tr>\n",
              "      <td>150</td>\n",
              "      <td>0.360100</td>\n",
              "    </tr>\n",
              "    <tr>\n",
              "      <td>160</td>\n",
              "      <td>0.314500</td>\n",
              "    </tr>\n",
              "    <tr>\n",
              "      <td>170</td>\n",
              "      <td>0.407700</td>\n",
              "    </tr>\n",
              "    <tr>\n",
              "      <td>180</td>\n",
              "      <td>0.437700</td>\n",
              "    </tr>\n",
              "    <tr>\n",
              "      <td>190</td>\n",
              "      <td>0.313500</td>\n",
              "    </tr>\n",
              "    <tr>\n",
              "      <td>200</td>\n",
              "      <td>0.457700</td>\n",
              "    </tr>\n",
              "    <tr>\n",
              "      <td>210</td>\n",
              "      <td>0.315800</td>\n",
              "    </tr>\n",
              "    <tr>\n",
              "      <td>220</td>\n",
              "      <td>0.312800</td>\n",
              "    </tr>\n",
              "    <tr>\n",
              "      <td>230</td>\n",
              "      <td>0.278300</td>\n",
              "    </tr>\n",
              "    <tr>\n",
              "      <td>240</td>\n",
              "      <td>0.386200</td>\n",
              "    </tr>\n",
              "    <tr>\n",
              "      <td>250</td>\n",
              "      <td>0.112700</td>\n",
              "    </tr>\n",
              "    <tr>\n",
              "      <td>260</td>\n",
              "      <td>0.151400</td>\n",
              "    </tr>\n",
              "    <tr>\n",
              "      <td>270</td>\n",
              "      <td>0.446300</td>\n",
              "    </tr>\n",
              "    <tr>\n",
              "      <td>280</td>\n",
              "      <td>0.375200</td>\n",
              "    </tr>\n",
              "    <tr>\n",
              "      <td>290</td>\n",
              "      <td>0.254700</td>\n",
              "    </tr>\n",
              "    <tr>\n",
              "      <td>300</td>\n",
              "      <td>0.288900</td>\n",
              "    </tr>\n",
              "    <tr>\n",
              "      <td>310</td>\n",
              "      <td>0.386600</td>\n",
              "    </tr>\n",
              "    <tr>\n",
              "      <td>320</td>\n",
              "      <td>0.256100</td>\n",
              "    </tr>\n",
              "    <tr>\n",
              "      <td>330</td>\n",
              "      <td>0.388000</td>\n",
              "    </tr>\n",
              "    <tr>\n",
              "      <td>340</td>\n",
              "      <td>0.460900</td>\n",
              "    </tr>\n",
              "    <tr>\n",
              "      <td>350</td>\n",
              "      <td>0.147400</td>\n",
              "    </tr>\n",
              "    <tr>\n",
              "      <td>360</td>\n",
              "      <td>0.158100</td>\n",
              "    </tr>\n",
              "  </tbody>\n",
              "</table><p>"
            ]
          },
          "metadata": {}
        },
        {
          "output_type": "execute_result",
          "data": {
            "text/plain": [
              "TrainOutput(global_step=363, training_loss=0.42807156389409845, metrics={'train_runtime': 8488.8528, 'train_samples_per_second': 0.34, 'train_steps_per_second': 0.043, 'total_flos': 380063919467520.0, 'train_loss': 0.42807156389409845, 'epoch': 3.0})"
            ]
          },
          "metadata": {},
          "execution_count": 36
        }
      ]
    },
    {
      "cell_type": "code",
      "source": [
        "results = trainer.evaluate()\n",
        "print(results)"
      ],
      "metadata": {
        "colab": {
          "base_uri": "https://localhost:8080/",
          "height": 74
        },
        "id": "TwYnx7i_SV3I",
        "outputId": "ba5f86c5-660a-4070-9163-82b47237a191"
      },
      "execution_count": 38,
      "outputs": [
        {
          "output_type": "display_data",
          "data": {
            "text/plain": [
              "<IPython.core.display.HTML object>"
            ],
            "text/html": [
              "\n",
              "    <div>\n",
              "      \n",
              "      <progress value='31' max='31' style='width:300px; height:20px; vertical-align: middle;'></progress>\n",
              "      [31/31 03:37]\n",
              "    </div>\n",
              "    "
            ]
          },
          "metadata": {}
        },
        {
          "output_type": "stream",
          "name": "stdout",
          "text": [
            "{'eval_loss': 0.4072689116001129, 'eval_runtime': 230.5139, 'eval_samples_per_second': 1.045, 'eval_steps_per_second': 0.134, 'epoch': 3.0}\n"
          ]
        }
      ]
    },
    {
      "cell_type": "code",
      "source": [
        "predictions = trainer.predict(val_dataset)\n",
        "print(predictions.metrics)"
      ],
      "metadata": {
        "colab": {
          "base_uri": "https://localhost:8080/",
          "height": 54
        },
        "id": "CVGa7jpuTR0f",
        "outputId": "d6e03846-a85c-40a6-8818-d3ec8789994c"
      },
      "execution_count": 39,
      "outputs": [
        {
          "output_type": "display_data",
          "data": {
            "text/plain": [
              "<IPython.core.display.HTML object>"
            ],
            "text/html": []
          },
          "metadata": {}
        },
        {
          "output_type": "stream",
          "name": "stdout",
          "text": [
            "{'test_loss': 0.4072689116001129, 'test_runtime': 274.8498, 'test_samples_per_second': 0.877, 'test_steps_per_second': 0.113}\n"
          ]
        }
      ]
    },
    {
      "cell_type": "code",
      "source": [
        "model.save_pretrained('./saved_model')\n",
        "tokenizer.save_pretrained('./saved_model')"
      ],
      "metadata": {
        "colab": {
          "base_uri": "https://localhost:8080/"
        },
        "id": "Ln-RjW6HTV_I",
        "outputId": "7f43dfc3-d660-4a3e-e723-b88142d7e32e"
      },
      "execution_count": 41,
      "outputs": [
        {
          "output_type": "execute_result",
          "data": {
            "text/plain": [
              "('./saved_model/tokenizer_config.json',\n",
              " './saved_model/special_tokens_map.json',\n",
              " './saved_model/vocab.txt',\n",
              " './saved_model/bpe.codes',\n",
              " './saved_model/added_tokens.json')"
            ]
          },
          "metadata": {},
          "execution_count": 41
        }
      ]
    },
    {
      "cell_type": "code",
      "source": [
        "from transformers import AutoModelForSequenceClassification, AutoTokenizer\n",
        "\n",
        "model = AutoModelForSequenceClassification.from_pretrained('./saved_model')\n",
        "tokenizer = AutoTokenizer.from_pretrained('./saved_model')\n",
        "\n",
        "inputs = tokenizer(\"Sập hầm thang Quảng Ninh khiến con số thiệt mạng khổng lồ\", return_tensors=\"pt\")\n",
        "# Thực hiện dự đoán\n",
        "with torch.no_grad():\n",
        "    outputs = model(**inputs)\n",
        "\n",
        "# Lấy logits từ kết quả dự đoán\n",
        "logits = outputs.logits\n",
        "print(logits)\n",
        "\n",
        "from torch.nn.functional import softmax\n",
        "\n",
        "probs = softmax(logits, dim=1)\n",
        "print(probs)\n",
        "\n",
        "from torch.nn.functional import softmax\n",
        "\n",
        "# Chuyển đổi logits thành xác suất\n",
        "probs = softmax(logits, dim=1)\n",
        "print(probs)\n",
        "\n",
        "# Lấy lớp dự đoán (lớp có xác suất cao nhất)\n",
        "predicted_class = torch.argmax(probs, dim=1)\n",
        "print(predicted_class)\n"
      ],
      "metadata": {
        "colab": {
          "base_uri": "https://localhost:8080/"
        },
        "id": "ogwakE8rSP6J",
        "outputId": "e51a6fd5-3d8b-430e-8cfc-313eb942b163"
      },
      "execution_count": 56,
      "outputs": [
        {
          "output_type": "stream",
          "name": "stdout",
          "text": [
            "tensor([[ 1.4092, -1.7504]])\n",
            "tensor([[0.9593, 0.0407]])\n",
            "tensor([[0.9593, 0.0407]])\n",
            "tensor([0])\n"
          ]
        }
      ]
    }
  ]
}